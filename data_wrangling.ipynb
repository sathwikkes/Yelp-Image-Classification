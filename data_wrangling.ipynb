{
  "nbformat": 4,
  "nbformat_minor": 0,
  "metadata": {
    "colab": {
      "name": "data-wrangling.ipynb",
      "provenance": [],
      "collapsed_sections": [],
      "mount_file_id": "1OFhTJVcjvQmnQgiaNa9xUUJmwu2p6ANF",
      "authorship_tag": "ABX9TyOsfA4ot6GFD2FaneroRkJy",
      "include_colab_link": true
    },
    "kernelspec": {
      "name": "python3",
      "display_name": "Python 3"
    }
  },
  "cells": [
    {
      "cell_type": "markdown",
      "metadata": {
        "id": "view-in-github",
        "colab_type": "text"
      },
      "source": [
        "<a href=\"https://colab.research.google.com/github/sathwikkes/Yelp-Image-Classification/blob/main/data_wrangling.ipynb\" target=\"_parent\"><img src=\"https://colab.research.google.com/assets/colab-badge.svg\" alt=\"Open In Colab\"/></a>"
      ]
    },
    {
      "cell_type": "code",
      "metadata": {
        "id": "xtMdTm3-o3Ir"
      },
      "source": [
        "# I will be working with Yelp Image Data set"
      ],
      "execution_count": 1,
      "outputs": []
    },
    {
      "cell_type": "code",
      "metadata": {
        "id": "DKFMRJhmp143"
      },
      "source": [
        "#!pip list -v \n",
        "#checking/making sure I have the proper modules loaded"
      ],
      "execution_count": 2,
      "outputs": []
    },
    {
      "cell_type": "markdown",
      "metadata": {
        "id": "SqFmwX9nD5CT"
      },
      "source": [
        "I had a hard time uploading a folder with almost 200,000 photos into my google drive in one go. I made a script with the help of this resource and split the big folder into subfolders to play around with.  \n",
        "https://gist.github.com/zupo/5849843"
      ]
    },
    {
      "cell_type": "markdown",
      "metadata": {
        "id": "-iD45gTyEvgM"
      },
      "source": [
        "Import the Libraries"
      ]
    },
    {
      "cell_type": "code",
      "metadata": {
        "id": "sZcgPuxhqmf2"
      },
      "source": [
        "# importing necessary modules\n",
        "import matplotlib.pyplot as plt\n",
        "import numpy as np\n",
        "import pandas as pd\n",
        "import json\n",
        "import os \n",
        "import io\n",
        "import seaborn as sns\n",
        "from PIL import Image"
      ],
      "execution_count": 3,
      "outputs": []
    },
    {
      "cell_type": "markdown",
      "metadata": {
        "id": "9ApuFuHuFvJ6"
      },
      "source": [
        "Load the Data"
      ]
    },
    {
      "cell_type": "code",
      "metadata": {
        "id": "2q9MM_kYJVJH",
        "colab": {
          "base_uri": "https://localhost:8080/"
        },
        "outputId": "53cde562-9fbe-46a6-b603-252eab648470"
      },
      "source": [
        "# Load the Drive helper and mount\n",
        "from google.colab import drive\n",
        "\n",
        "# This will prompt for authorization.\n",
        "drive.mount('/content/drive')"
      ],
      "execution_count": 4,
      "outputs": [
        {
          "output_type": "stream",
          "text": [
            "Drive already mounted at /content/drive; to attempt to forcibly remount, call drive.mount(\"/content/drive\", force_remount=True).\n"
          ],
          "name": "stdout"
        }
      ]
    },
    {
      "cell_type": "code",
      "metadata": {
        "colab": {
          "resources": {
            "http://localhost:8080/nbextensions/google.colab/files.js": {
              "data": "Ly8gQ29weXJpZ2h0IDIwMTcgR29vZ2xlIExMQwovLwovLyBMaWNlbnNlZCB1bmRlciB0aGUgQXBhY2hlIExpY2Vuc2UsIFZlcnNpb24gMi4wICh0aGUgIkxpY2Vuc2UiKTsKLy8geW91IG1heSBub3QgdXNlIHRoaXMgZmlsZSBleGNlcHQgaW4gY29tcGxpYW5jZSB3aXRoIHRoZSBMaWNlbnNlLgovLyBZb3UgbWF5IG9idGFpbiBhIGNvcHkgb2YgdGhlIExpY2Vuc2UgYXQKLy8KLy8gICAgICBodHRwOi8vd3d3LmFwYWNoZS5vcmcvbGljZW5zZXMvTElDRU5TRS0yLjAKLy8KLy8gVW5sZXNzIHJlcXVpcmVkIGJ5IGFwcGxpY2FibGUgbGF3IG9yIGFncmVlZCB0byBpbiB3cml0aW5nLCBzb2Z0d2FyZQovLyBkaXN0cmlidXRlZCB1bmRlciB0aGUgTGljZW5zZSBpcyBkaXN0cmlidXRlZCBvbiBhbiAiQVMgSVMiIEJBU0lTLAovLyBXSVRIT1VUIFdBUlJBTlRJRVMgT1IgQ09ORElUSU9OUyBPRiBBTlkgS0lORCwgZWl0aGVyIGV4cHJlc3Mgb3IgaW1wbGllZC4KLy8gU2VlIHRoZSBMaWNlbnNlIGZvciB0aGUgc3BlY2lmaWMgbGFuZ3VhZ2UgZ292ZXJuaW5nIHBlcm1pc3Npb25zIGFuZAovLyBsaW1pdGF0aW9ucyB1bmRlciB0aGUgTGljZW5zZS4KCi8qKgogKiBAZmlsZW92ZXJ2aWV3IEhlbHBlcnMgZm9yIGdvb2dsZS5jb2xhYiBQeXRob24gbW9kdWxlLgogKi8KKGZ1bmN0aW9uKHNjb3BlKSB7CmZ1bmN0aW9uIHNwYW4odGV4dCwgc3R5bGVBdHRyaWJ1dGVzID0ge30pIHsKICBjb25zdCBlbGVtZW50ID0gZG9jdW1lbnQuY3JlYXRlRWxlbWVudCgnc3BhbicpOwogIGVsZW1lbnQudGV4dENvbnRlbnQgPSB0ZXh0OwogIGZvciAoY29uc3Qga2V5IG9mIE9iamVjdC5rZXlzKHN0eWxlQXR0cmlidXRlcykpIHsKICAgIGVsZW1lbnQuc3R5bGVba2V5XSA9IHN0eWxlQXR0cmlidXRlc1trZXldOwogIH0KICByZXR1cm4gZWxlbWVudDsKfQoKLy8gTWF4IG51bWJlciBvZiBieXRlcyB3aGljaCB3aWxsIGJlIHVwbG9hZGVkIGF0IGEgdGltZS4KY29uc3QgTUFYX1BBWUxPQURfU0laRSA9IDEwMCAqIDEwMjQ7CgpmdW5jdGlvbiBfdXBsb2FkRmlsZXMoaW5wdXRJZCwgb3V0cHV0SWQpIHsKICBjb25zdCBzdGVwcyA9IHVwbG9hZEZpbGVzU3RlcChpbnB1dElkLCBvdXRwdXRJZCk7CiAgY29uc3Qgb3V0cHV0RWxlbWVudCA9IGRvY3VtZW50LmdldEVsZW1lbnRCeUlkKG91dHB1dElkKTsKICAvLyBDYWNoZSBzdGVwcyBvbiB0aGUgb3V0cHV0RWxlbWVudCB0byBtYWtlIGl0IGF2YWlsYWJsZSBmb3IgdGhlIG5leHQgY2FsbAogIC8vIHRvIHVwbG9hZEZpbGVzQ29udGludWUgZnJvbSBQeXRob24uCiAgb3V0cHV0RWxlbWVudC5zdGVwcyA9IHN0ZXBzOwoKICByZXR1cm4gX3VwbG9hZEZpbGVzQ29udGludWUob3V0cHV0SWQpOwp9CgovLyBUaGlzIGlzIHJvdWdobHkgYW4gYXN5bmMgZ2VuZXJhdG9yIChub3Qgc3VwcG9ydGVkIGluIHRoZSBicm93c2VyIHlldCksCi8vIHdoZXJlIHRoZXJlIGFyZSBtdWx0aXBsZSBhc3luY2hyb25vdXMgc3RlcHMgYW5kIHRoZSBQeXRob24gc2lkZSBpcyBnb2luZwovLyB0byBwb2xsIGZvciBjb21wbGV0aW9uIG9mIGVhY2ggc3RlcC4KLy8gVGhpcyB1c2VzIGEgUHJvbWlzZSB0byBibG9jayB0aGUgcHl0aG9uIHNpZGUgb24gY29tcGxldGlvbiBvZiBlYWNoIHN0ZXAsCi8vIHRoZW4gcGFzc2VzIHRoZSByZXN1bHQgb2YgdGhlIHByZXZpb3VzIHN0ZXAgYXMgdGhlIGlucHV0IHRvIHRoZSBuZXh0IHN0ZXAuCmZ1bmN0aW9uIF91cGxvYWRGaWxlc0NvbnRpbnVlKG91dHB1dElkKSB7CiAgY29uc3Qgb3V0cHV0RWxlbWVudCA9IGRvY3VtZW50LmdldEVsZW1lbnRCeUlkKG91dHB1dElkKTsKICBjb25zdCBzdGVwcyA9IG91dHB1dEVsZW1lbnQuc3RlcHM7CgogIGNvbnN0IG5leHQgPSBzdGVwcy5uZXh0KG91dHB1dEVsZW1lbnQubGFzdFByb21pc2VWYWx1ZSk7CiAgcmV0dXJuIFByb21pc2UucmVzb2x2ZShuZXh0LnZhbHVlLnByb21pc2UpLnRoZW4oKHZhbHVlKSA9PiB7CiAgICAvLyBDYWNoZSB0aGUgbGFzdCBwcm9taXNlIHZhbHVlIHRvIG1ha2UgaXQgYXZhaWxhYmxlIHRvIHRoZSBuZXh0CiAgICAvLyBzdGVwIG9mIHRoZSBnZW5lcmF0b3IuCiAgICBvdXRwdXRFbGVtZW50Lmxhc3RQcm9taXNlVmFsdWUgPSB2YWx1ZTsKICAgIHJldHVybiBuZXh0LnZhbHVlLnJlc3BvbnNlOwogIH0pOwp9CgovKioKICogR2VuZXJhdG9yIGZ1bmN0aW9uIHdoaWNoIGlzIGNhbGxlZCBiZXR3ZWVuIGVhY2ggYXN5bmMgc3RlcCBvZiB0aGUgdXBsb2FkCiAqIHByb2Nlc3MuCiAqIEBwYXJhbSB7c3RyaW5nfSBpbnB1dElkIEVsZW1lbnQgSUQgb2YgdGhlIGlucHV0IGZpbGUgcGlja2VyIGVsZW1lbnQuCiAqIEBwYXJhbSB7c3RyaW5nfSBvdXRwdXRJZCBFbGVtZW50IElEIG9mIHRoZSBvdXRwdXQgZGlzcGxheS4KICogQHJldHVybiB7IUl0ZXJhYmxlPCFPYmplY3Q+fSBJdGVyYWJsZSBvZiBuZXh0IHN0ZXBzLgogKi8KZnVuY3Rpb24qIHVwbG9hZEZpbGVzU3RlcChpbnB1dElkLCBvdXRwdXRJZCkgewogIGNvbnN0IGlucHV0RWxlbWVudCA9IGRvY3VtZW50LmdldEVsZW1lbnRCeUlkKGlucHV0SWQpOwogIGlucHV0RWxlbWVudC5kaXNhYmxlZCA9IGZhbHNlOwoKICBjb25zdCBvdXRwdXRFbGVtZW50ID0gZG9jdW1lbnQuZ2V0RWxlbWVudEJ5SWQob3V0cHV0SWQpOwogIG91dHB1dEVsZW1lbnQuaW5uZXJIVE1MID0gJyc7CgogIGNvbnN0IHBpY2tlZFByb21pc2UgPSBuZXcgUHJvbWlzZSgocmVzb2x2ZSkgPT4gewogICAgaW5wdXRFbGVtZW50LmFkZEV2ZW50TGlzdGVuZXIoJ2NoYW5nZScsIChlKSA9PiB7CiAgICAgIHJlc29sdmUoZS50YXJnZXQuZmlsZXMpOwogICAgfSk7CiAgfSk7CgogIGNvbnN0IGNhbmNlbCA9IGRvY3VtZW50LmNyZWF0ZUVsZW1lbnQoJ2J1dHRvbicpOwogIGlucHV0RWxlbWVudC5wYXJlbnRFbGVtZW50LmFwcGVuZENoaWxkKGNhbmNlbCk7CiAgY2FuY2VsLnRleHRDb250ZW50ID0gJ0NhbmNlbCB1cGxvYWQnOwogIGNvbnN0IGNhbmNlbFByb21pc2UgPSBuZXcgUHJvbWlzZSgocmVzb2x2ZSkgPT4gewogICAgY2FuY2VsLm9uY2xpY2sgPSAoKSA9PiB7CiAgICAgIHJlc29sdmUobnVsbCk7CiAgICB9OwogIH0pOwoKICAvLyBXYWl0IGZvciB0aGUgdXNlciB0byBwaWNrIHRoZSBmaWxlcy4KICBjb25zdCBmaWxlcyA9IHlpZWxkIHsKICAgIHByb21pc2U6IFByb21pc2UucmFjZShbcGlja2VkUHJvbWlzZSwgY2FuY2VsUHJvbWlzZV0pLAogICAgcmVzcG9uc2U6IHsKICAgICAgYWN0aW9uOiAnc3RhcnRpbmcnLAogICAgfQogIH07CgogIGNhbmNlbC5yZW1vdmUoKTsKCiAgLy8gRGlzYWJsZSB0aGUgaW5wdXQgZWxlbWVudCBzaW5jZSBmdXJ0aGVyIHBpY2tzIGFyZSBub3QgYWxsb3dlZC4KICBpbnB1dEVsZW1lbnQuZGlzYWJsZWQgPSB0cnVlOwoKICBpZiAoIWZpbGVzKSB7CiAgICByZXR1cm4gewogICAgICByZXNwb25zZTogewogICAgICAgIGFjdGlvbjogJ2NvbXBsZXRlJywKICAgICAgfQogICAgfTsKICB9CgogIGZvciAoY29uc3QgZmlsZSBvZiBmaWxlcykgewogICAgY29uc3QgbGkgPSBkb2N1bWVudC5jcmVhdGVFbGVtZW50KCdsaScpOwogICAgbGkuYXBwZW5kKHNwYW4oZmlsZS5uYW1lLCB7Zm9udFdlaWdodDogJ2JvbGQnfSkpOwogICAgbGkuYXBwZW5kKHNwYW4oCiAgICAgICAgYCgke2ZpbGUudHlwZSB8fCAnbi9hJ30pIC0gJHtmaWxlLnNpemV9IGJ5dGVzLCBgICsKICAgICAgICBgbGFzdCBtb2RpZmllZDogJHsKICAgICAgICAgICAgZmlsZS5sYXN0TW9kaWZpZWREYXRlID8gZmlsZS5sYXN0TW9kaWZpZWREYXRlLnRvTG9jYWxlRGF0ZVN0cmluZygpIDoKICAgICAgICAgICAgICAgICAgICAgICAgICAgICAgICAgICAgJ24vYSd9IC0gYCkpOwogICAgY29uc3QgcGVyY2VudCA9IHNwYW4oJzAlIGRvbmUnKTsKICAgIGxpLmFwcGVuZENoaWxkKHBlcmNlbnQpOwoKICAgIG91dHB1dEVsZW1lbnQuYXBwZW5kQ2hpbGQobGkpOwoKICAgIGNvbnN0IGZpbGVEYXRhUHJvbWlzZSA9IG5ldyBQcm9taXNlKChyZXNvbHZlKSA9PiB7CiAgICAgIGNvbnN0IHJlYWRlciA9IG5ldyBGaWxlUmVhZGVyKCk7CiAgICAgIHJlYWRlci5vbmxvYWQgPSAoZSkgPT4gewogICAgICAgIHJlc29sdmUoZS50YXJnZXQucmVzdWx0KTsKICAgICAgfTsKICAgICAgcmVhZGVyLnJlYWRBc0FycmF5QnVmZmVyKGZpbGUpOwogICAgfSk7CiAgICAvLyBXYWl0IGZvciB0aGUgZGF0YSB0byBiZSByZWFkeS4KICAgIGxldCBmaWxlRGF0YSA9IHlpZWxkIHsKICAgICAgcHJvbWlzZTogZmlsZURhdGFQcm9taXNlLAogICAgICByZXNwb25zZTogewogICAgICAgIGFjdGlvbjogJ2NvbnRpbnVlJywKICAgICAgfQogICAgfTsKCiAgICAvLyBVc2UgYSBjaHVua2VkIHNlbmRpbmcgdG8gYXZvaWQgbWVzc2FnZSBzaXplIGxpbWl0cy4gU2VlIGIvNjIxMTU2NjAuCiAgICBsZXQgcG9zaXRpb24gPSAwOwogICAgd2hpbGUgKHBvc2l0aW9uIDwgZmlsZURhdGEuYnl0ZUxlbmd0aCkgewogICAgICBjb25zdCBsZW5ndGggPSBNYXRoLm1pbihmaWxlRGF0YS5ieXRlTGVuZ3RoIC0gcG9zaXRpb24sIE1BWF9QQVlMT0FEX1NJWkUpOwogICAgICBjb25zdCBjaHVuayA9IG5ldyBVaW50OEFycmF5KGZpbGVEYXRhLCBwb3NpdGlvbiwgbGVuZ3RoKTsKICAgICAgcG9zaXRpb24gKz0gbGVuZ3RoOwoKICAgICAgY29uc3QgYmFzZTY0ID0gYnRvYShTdHJpbmcuZnJvbUNoYXJDb2RlLmFwcGx5KG51bGwsIGNodW5rKSk7CiAgICAgIHlpZWxkIHsKICAgICAgICByZXNwb25zZTogewogICAgICAgICAgYWN0aW9uOiAnYXBwZW5kJywKICAgICAgICAgIGZpbGU6IGZpbGUubmFtZSwKICAgICAgICAgIGRhdGE6IGJhc2U2NCwKICAgICAgICB9LAogICAgICB9OwogICAgICBwZXJjZW50LnRleHRDb250ZW50ID0KICAgICAgICAgIGAke01hdGgucm91bmQoKHBvc2l0aW9uIC8gZmlsZURhdGEuYnl0ZUxlbmd0aCkgKiAxMDApfSUgZG9uZWA7CiAgICB9CiAgfQoKICAvLyBBbGwgZG9uZS4KICB5aWVsZCB7CiAgICByZXNwb25zZTogewogICAgICBhY3Rpb246ICdjb21wbGV0ZScsCiAgICB9CiAgfTsKfQoKc2NvcGUuZ29vZ2xlID0gc2NvcGUuZ29vZ2xlIHx8IHt9OwpzY29wZS5nb29nbGUuY29sYWIgPSBzY29wZS5nb29nbGUuY29sYWIgfHwge307CnNjb3BlLmdvb2dsZS5jb2xhYi5fZmlsZXMgPSB7CiAgX3VwbG9hZEZpbGVzLAogIF91cGxvYWRGaWxlc0NvbnRpbnVlLAp9Owp9KShzZWxmKTsK",
              "ok": true,
              "headers": [
                [
                  "content-type",
                  "application/javascript"
                ]
              ],
              "status": 200,
              "status_text": ""
            }
          },
          "base_uri": "https://localhost:8080/",
          "height": 72
        },
        "id": "-ArqqaB_chie",
        "outputId": "99c89d58-814b-48ff-e3b9-23fb15f52766"
      },
      "source": [
        "from google.colab import files\n",
        "uploaded = files.upload()"
      ],
      "execution_count": 5,
      "outputs": [
        {
          "output_type": "display_data",
          "data": {
            "text/html": [
              "\n",
              "     <input type=\"file\" id=\"files-356f383a-343c-41c1-9fb9-ba4830810aa7\" name=\"files[]\" multiple disabled\n",
              "        style=\"border:none\" />\n",
              "     <output id=\"result-356f383a-343c-41c1-9fb9-ba4830810aa7\">\n",
              "      Upload widget is only available when the cell has been executed in the\n",
              "      current browser session. Please rerun this cell to enable.\n",
              "      </output>\n",
              "      <script src=\"/nbextensions/google.colab/files.js\"></script> "
            ],
            "text/plain": [
              "<IPython.core.display.HTML object>"
            ]
          },
          "metadata": {
            "tags": []
          }
        },
        {
          "output_type": "stream",
          "text": [
            "Saving photos.json to photos (2).json\n"
          ],
          "name": "stdout"
        }
      ]
    },
    {
      "cell_type": "code",
      "metadata": {
        "id": "yLUI2yHV0eOw"
      },
      "source": [
        "# !ls \"/content/drive/MyDrive/Colab-Notebooks/yelp-image-classification/rand_pics\""
      ],
      "execution_count": 6,
      "outputs": []
    },
    {
      "cell_type": "code",
      "metadata": {
        "id": "OtHa51kx0KEN"
      },
      "source": [
        "data = pd.read_json(uploaded.get('photos.json'), lines=True)\n"
      ],
      "execution_count": 7,
      "outputs": []
    },
    {
      "cell_type": "markdown",
      "metadata": {
        "id": "2mddEWZkF0Eb"
      },
      "source": [
        "Data Exploration & Wrangling"
      ]
    },
    {
      "cell_type": "code",
      "metadata": {
        "id": "9YDUF7Sg1jq4",
        "colab": {
          "base_uri": "https://localhost:8080/",
          "height": 204
        },
        "outputId": "bf426f8b-14d2-49ff-8a23-cc14f5a7bb8b"
      },
      "source": [
        "data.head()"
      ],
      "execution_count": 8,
      "outputs": [
        {
          "output_type": "execute_result",
          "data": {
            "text/html": [
              "<div>\n",
              "<style scoped>\n",
              "    .dataframe tbody tr th:only-of-type {\n",
              "        vertical-align: middle;\n",
              "    }\n",
              "\n",
              "    .dataframe tbody tr th {\n",
              "        vertical-align: top;\n",
              "    }\n",
              "\n",
              "    .dataframe thead th {\n",
              "        text-align: right;\n",
              "    }\n",
              "</style>\n",
              "<table border=\"1\" class=\"dataframe\">\n",
              "  <thead>\n",
              "    <tr style=\"text-align: right;\">\n",
              "      <th></th>\n",
              "      <th>photo_id</th>\n",
              "      <th>business_id</th>\n",
              "      <th>caption</th>\n",
              "      <th>label</th>\n",
              "    </tr>\n",
              "  </thead>\n",
              "  <tbody>\n",
              "    <tr>\n",
              "      <th>0</th>\n",
              "      <td>001kKc6P_rmgaXThAHxEkw</td>\n",
              "      <td>zKZc8GwCaKbACaV0HZAmpg</td>\n",
              "      <td>Clean and simple interior</td>\n",
              "      <td>inside</td>\n",
              "    </tr>\n",
              "    <tr>\n",
              "      <th>1</th>\n",
              "      <td>002gqWfVal1D2DT6oA-bVQ</td>\n",
              "      <td>qnZzSC4TKen19Gz9nyKCvw</td>\n",
              "      <td>12oz. Boneless Ribeye | Grilled to perfection ...</td>\n",
              "      <td>food</td>\n",
              "    </tr>\n",
              "    <tr>\n",
              "      <th>2</th>\n",
              "      <td>002GtTSYyQ4swIZyEnfF5A</td>\n",
              "      <td>9km51KaQujxsSgdaG9gYSw</td>\n",
              "      <td>The Most Yummy Tarts: Chantilly, Guava, Salted...</td>\n",
              "      <td>food</td>\n",
              "    </tr>\n",
              "    <tr>\n",
              "      <th>3</th>\n",
              "      <td>0036yehPJxVwNZDRDYH2jQ</td>\n",
              "      <td>Qg9L37JCd-PkcWMj9VAWmw</td>\n",
              "      <td>Dynamic Duo!  Great dance music!</td>\n",
              "      <td>inside</td>\n",
              "    </tr>\n",
              "    <tr>\n",
              "      <th>4</th>\n",
              "      <td>003Isvt6NCJ567PdAEwrfA</td>\n",
              "      <td>zgQHtqX0gqMw1nlBZl2VnQ</td>\n",
              "      <td></td>\n",
              "      <td>food</td>\n",
              "    </tr>\n",
              "  </tbody>\n",
              "</table>\n",
              "</div>"
            ],
            "text/plain": [
              "                 photo_id  ...   label\n",
              "0  001kKc6P_rmgaXThAHxEkw  ...  inside\n",
              "1  002gqWfVal1D2DT6oA-bVQ  ...    food\n",
              "2  002GtTSYyQ4swIZyEnfF5A  ...    food\n",
              "3  0036yehPJxVwNZDRDYH2jQ  ...  inside\n",
              "4  003Isvt6NCJ567PdAEwrfA  ...    food\n",
              "\n",
              "[5 rows x 4 columns]"
            ]
          },
          "metadata": {
            "tags": []
          },
          "execution_count": 8
        }
      ]
    },
    {
      "cell_type": "code",
      "metadata": {
        "id": "eR5LXu8afgFa",
        "colab": {
          "base_uri": "https://localhost:8080/"
        },
        "outputId": "bddfb802-91b8-41ec-ac13-a251760959ba"
      },
      "source": [
        "type(data)"
      ],
      "execution_count": 9,
      "outputs": [
        {
          "output_type": "execute_result",
          "data": {
            "text/plain": [
              "pandas.core.frame.DataFrame"
            ]
          },
          "metadata": {
            "tags": []
          },
          "execution_count": 9
        }
      ]
    },
    {
      "cell_type": "code",
      "metadata": {
        "id": "yBInVd-TOIqS",
        "colab": {
          "base_uri": "https://localhost:8080/"
        },
        "outputId": "1a7242d2-4c89-4b20-dde3-6a641d4bab9b"
      },
      "source": [
        "data.shape"
      ],
      "execution_count": 10,
      "outputs": [
        {
          "output_type": "execute_result",
          "data": {
            "text/plain": [
              "(200000, 4)"
            ]
          },
          "metadata": {
            "tags": []
          },
          "execution_count": 10
        }
      ]
    },
    {
      "cell_type": "code",
      "metadata": {
        "id": "nnP4OJIZOFUo",
        "colab": {
          "base_uri": "https://localhost:8080/"
        },
        "outputId": "6979c57f-2ee1-404f-e148-dae0126ba49d"
      },
      "source": [
        "data.info()"
      ],
      "execution_count": 11,
      "outputs": [
        {
          "output_type": "stream",
          "text": [
            "<class 'pandas.core.frame.DataFrame'>\n",
            "RangeIndex: 200000 entries, 0 to 199999\n",
            "Data columns (total 4 columns):\n",
            " #   Column       Non-Null Count   Dtype \n",
            "---  ------       --------------   ----- \n",
            " 0   photo_id     200000 non-null  object\n",
            " 1   business_id  200000 non-null  object\n",
            " 2   caption      200000 non-null  object\n",
            " 3   label        200000 non-null  object\n",
            "dtypes: object(4)\n",
            "memory usage: 6.1+ MB\n"
          ],
          "name": "stdout"
        }
      ]
    },
    {
      "cell_type": "code",
      "metadata": {
        "id": "NSEub0ouOJO_",
        "colab": {
          "base_uri": "https://localhost:8080/",
          "height": 173
        },
        "outputId": "652f5192-893c-459a-d35e-118972f32499"
      },
      "source": [
        "data.describe()"
      ],
      "execution_count": 12,
      "outputs": [
        {
          "output_type": "execute_result",
          "data": {
            "text/html": [
              "<div>\n",
              "<style scoped>\n",
              "    .dataframe tbody tr th:only-of-type {\n",
              "        vertical-align: middle;\n",
              "    }\n",
              "\n",
              "    .dataframe tbody tr th {\n",
              "        vertical-align: top;\n",
              "    }\n",
              "\n",
              "    .dataframe thead th {\n",
              "        text-align: right;\n",
              "    }\n",
              "</style>\n",
              "<table border=\"1\" class=\"dataframe\">\n",
              "  <thead>\n",
              "    <tr style=\"text-align: right;\">\n",
              "      <th></th>\n",
              "      <th>photo_id</th>\n",
              "      <th>business_id</th>\n",
              "      <th>caption</th>\n",
              "      <th>label</th>\n",
              "    </tr>\n",
              "  </thead>\n",
              "  <tbody>\n",
              "    <tr>\n",
              "      <th>count</th>\n",
              "      <td>200000</td>\n",
              "      <td>200000</td>\n",
              "      <td>200000</td>\n",
              "      <td>200000</td>\n",
              "    </tr>\n",
              "    <tr>\n",
              "      <th>unique</th>\n",
              "      <td>200000</td>\n",
              "      <td>39830</td>\n",
              "      <td>72475</td>\n",
              "      <td>5</td>\n",
              "    </tr>\n",
              "    <tr>\n",
              "      <th>top</th>\n",
              "      <td>L_ymU1_eBVsl24Fhm3YvvQ</td>\n",
              "      <td>RESDUcs7fIiihp38-d6_6g</td>\n",
              "      <td></td>\n",
              "      <td>food</td>\n",
              "    </tr>\n",
              "    <tr>\n",
              "      <th>freq</th>\n",
              "      <td>1</td>\n",
              "      <td>652</td>\n",
              "      <td>107420</td>\n",
              "      <td>118597</td>\n",
              "    </tr>\n",
              "  </tbody>\n",
              "</table>\n",
              "</div>"
            ],
            "text/plain": [
              "                      photo_id             business_id caption   label\n",
              "count                   200000                  200000  200000  200000\n",
              "unique                  200000                   39830   72475       5\n",
              "top     L_ymU1_eBVsl24Fhm3YvvQ  RESDUcs7fIiihp38-d6_6g            food\n",
              "freq                         1                     652  107420  118597"
            ]
          },
          "metadata": {
            "tags": []
          },
          "execution_count": 12
        }
      ]
    },
    {
      "cell_type": "code",
      "metadata": {
        "id": "-sDsWBvwIlzO",
        "colab": {
          "base_uri": "https://localhost:8080/",
          "height": 323
        },
        "outputId": "836a2428-cad2-49c9-cda0-b9fa2886244d"
      },
      "source": [
        "data.label.value_counts().plot(kind='bar', xlabel='label', ylabel='Count')"
      ],
      "execution_count": 13,
      "outputs": [
        {
          "output_type": "execute_result",
          "data": {
            "text/plain": [
              "<matplotlib.axes._subplots.AxesSubplot at 0x7fd6ee031210>"
            ]
          },
          "metadata": {
            "tags": []
          },
          "execution_count": 13
        },
        {
          "output_type": "display_data",
          "data": {
            "image/png": "[encoded data removed]",
            "text/plain": [
              "<Figure size 432x288 with 1 Axes>"
            ]
          },
          "metadata": {
            "tags": [],
            "needs_background": "light"
          }
        }
      ]
    },
    {
      "cell_type": "code",
      "metadata": {
        "id": "Q6Ii-r9-NyxW",
        "colab": {
          "base_uri": "https://localhost:8080/",
          "height": 267
        },
        "outputId": "94b7da2c-90f4-43c1-9b7b-ea1e97565549"
      },
      "source": [
        "plt.pie(data.label.value_counts(), explode=None, labels= data.label.unique(), shadow=True, autopct='%1.1f%%')\n",
        "plt.axis('equal')\n",
        "plt.title('Proportion of each label')\n",
        "plt.show()"
      ],
      "execution_count": 14,
      "outputs": [
        {
          "output_type": "display_data",
          "data": {
            "image/png": "[encoded data removed]",
            "text/plain": [
              "<Figure size 432x288 with 1 Axes>"
            ]
          },
          "metadata": {
            "tags": []
          }
        }
      ]
    },
    {
      "cell_type": "markdown",
      "metadata": {
        "id": "kSFKlLpqRI0A"
      },
      "source": [
        "Reading in the Photos"
      ]
    },
    {
      "cell_type": "code",
      "metadata": {
        "id": "fDT7ZEIYwUlc"
      },
      "source": [
        "import glob\n",
        "img_dir_train = '/content/drive/MyDrive/Colab-Notebooks/yelp-image-classification/rand_pics' \n",
        "\n",
        "data_path = os.path.join(img_dir_train,'*g')\n",
        "\n",
        "files = glob.glob(data_path)\n",
        "\n",
        "# creaing dictionary with key as photo_id and value as image path\n",
        "imageid_path_dict = {os.path.splitext(os.path.basename(x))[0]: x \n",
        "                     for x in glob.glob(data_path)}\n"
      ],
      "execution_count": 15,
      "outputs": []
    },
    {
      "cell_type": "code",
      "metadata": {
        "id": "Edgtb1DP53JK"
      },
      "source": [
        "data['path'] = data['photo_id'].map(imageid_path_dict.get)"
      ],
      "execution_count": 16,
      "outputs": []
    },
    {
      "cell_type": "code",
      "metadata": {
        "id": "KSXJ6Vs6XcRB"
      },
      "source": [
        "#img_dir_test = '/content/drive/MyDrive/Colab-Notebooks/yelp-image-classification/test'\n",
        "#data_path_test= os.path.join(img_dir_test, '*g')\n",
        "#files_test = glob.glob(data_path_test)\n",
        "#imageid_path_dict_test = {os.path.splitext(os.path.basename(x))[0]: x \n",
        "                     #for x in glob.glob(data_path_test)}"
      ],
      "execution_count": 17,
      "outputs": []
    },
    {
      "cell_type": "code",
      "metadata": {
        "id": "2GuTC330W75D"
      },
      "source": [
        "#data['path'] = data['photo_id'].map(imageid_path_dict_test.get)"
      ],
      "execution_count": 18,
      "outputs": []
    },
    {
      "cell_type": "code",
      "metadata": {
        "id": "8schYGHx69rG",
        "colab": {
          "base_uri": "https://localhost:8080/"
        },
        "outputId": "7614936b-80c8-48a1-a038-874d69856441"
      },
      "source": [
        "# listing all the paths of the pictures that were imported\n",
        "data[data.path.notnull()]['path']"
      ],
      "execution_count": 19,
      "outputs": [
        {
          "output_type": "execute_result",
          "data": {
            "text/plain": [
              "636       /content/drive/MyDrive/Colab-Notebooks/yelp-im...\n",
              "933       /content/drive/MyDrive/Colab-Notebooks/yelp-im...\n",
              "1044      /content/drive/MyDrive/Colab-Notebooks/yelp-im...\n",
              "1167      /content/drive/MyDrive/Colab-Notebooks/yelp-im...\n",
              "1367      /content/drive/MyDrive/Colab-Notebooks/yelp-im...\n",
              "                                ...                        \n",
              "199363    /content/drive/MyDrive/Colab-Notebooks/yelp-im...\n",
              "199600    /content/drive/MyDrive/Colab-Notebooks/yelp-im...\n",
              "199647    /content/drive/MyDrive/Colab-Notebooks/yelp-im...\n",
              "199648    /content/drive/MyDrive/Colab-Notebooks/yelp-im...\n",
              "199985    /content/drive/MyDrive/Colab-Notebooks/yelp-im...\n",
              "Name: path, Length: 1000, dtype: object"
            ]
          },
          "metadata": {
            "tags": []
          },
          "execution_count": 19
        }
      ]
    },
    {
      "cell_type": "code",
      "metadata": {
        "id": "OHpRgvGWWliQ"
      },
      "source": [
        "df = data[data.path.notnull()]"
      ],
      "execution_count": 20,
      "outputs": []
    },
    {
      "cell_type": "code",
      "metadata": {
        "id": "dK3YEYcL7uxw",
        "colab": {
          "base_uri": "https://localhost:8080/",
          "height": 35
        },
        "outputId": "cd6ecabe-202d-4c52-aa83-cc5044f304cb"
      },
      "source": [
        "df.iloc[636]['path']"
      ],
      "execution_count": 21,
      "outputs": [
        {
          "output_type": "execute_result",
          "data": {
            "application/vnd.google.colaboratory.intrinsic+json": {
              "type": "string"
            },
            "text/plain": [
              "'/content/drive/MyDrive/Colab-Notebooks/yelp-image-classification/rand_pics/palsLqpRPPsPvLOOMu0Tvw.jpg'"
            ]
          },
          "metadata": {
            "tags": []
          },
          "execution_count": 21
        }
      ]
    },
    {
      "cell_type": "code",
      "metadata": {
        "id": "3U2dmdqB6Bk2"
      },
      "source": [
        "import cv2\n",
        "img = cv2.imread('/content/drive/MyDrive/Colab-Notebooks/yelp-image-classification/rand_pics/0bhL0XvLMxn-W-fu2c7pkA.jpg') "
      ],
      "execution_count": 22,
      "outputs": []
    },
    {
      "cell_type": "code",
      "metadata": {
        "id": "lV8e_Zso6W8B",
        "colab": {
          "base_uri": "https://localhost:8080/",
          "height": 92
        },
        "outputId": "023f9b18-33cb-4a26-8e90-82a103bd0701"
      },
      "source": [
        "# have to import this module bc cv2.imshow() does not work in colab\n",
        "# images read in opencv are in the format of blue green red\n",
        "from google.colab.patches import cv2_imshow\n",
        "cv2_imshow(img)  "
      ],
      "execution_count": 23,
      "outputs": [
        {
          "output_type": "display_data",
          "data": {
            "image/png": "[encoded data removed]",
            "text/plain": [
              "<PIL.Image.Image image mode=RGB size=75x75 at 0x7FD6EDF79B90>"
            ]
          },
          "metadata": {
            "tags": []
          }
        }
      ]
    },
    {
      "cell_type": "code",
      "metadata": {
        "id": "neuug35OFklt",
        "colab": {
          "base_uri": "https://localhost:8080/"
        },
        "outputId": "8e4b7485-e0ca-49e9-e94d-7e3222a24607"
      },
      "source": [
        "print(img.shape)\n",
        "print(type(img))"
      ],
      "execution_count": 24,
      "outputs": [
        {
          "output_type": "stream",
          "text": [
            "(75, 75, 3)\n",
            "<class 'numpy.ndarray'>\n"
          ],
          "name": "stdout"
        }
      ]
    },
    {
      "cell_type": "markdown",
      "metadata": {
        "id": "j7kuAN91RgMq"
      },
      "source": [
        "Image Manipulation & Fundamentals"
      ]
    },
    {
      "cell_type": "code",
      "metadata": {
        "id": "KO-Q9v-iHab_",
        "colab": {
          "base_uri": "https://localhost:8080/",
          "height": 92
        },
        "outputId": "b96c860d-2e10-43a9-c431-2bc57c6d3c9a"
      },
      "source": [
        "image_rgb = cv2.cvtColor(img, cv2.COLOR_BGR2RGB) \n",
        "cv2_imshow(image_rgb) "
      ],
      "execution_count": 25,
      "outputs": [
        {
          "output_type": "display_data",
          "data": {
            "image/png": "[encoded data removed]",
            "text/plain": [
              "<PIL.Image.Image image mode=RGB size=75x75 at 0x7FD6EDED0410>"
            ]
          },
          "metadata": {
            "tags": []
          }
        }
      ]
    },
    {
      "cell_type": "code",
      "metadata": {
        "id": "bBCVNGYe7-jF",
        "colab": {
          "base_uri": "https://localhost:8080/",
          "height": 92
        },
        "outputId": "791a3edb-7683-40ab-bd9a-4238bd1de618"
      },
      "source": [
        "hsv = cv2.cvtColor(img, cv2.COLOR_BGR2HSV)\n",
        "cv2_imshow(hsv) "
      ],
      "execution_count": 26,
      "outputs": [
        {
          "output_type": "display_data",
          "data": {
            "image/png": "[encoded data removed]",
            "text/plain": [
              "<PIL.Image.Image image mode=RGB size=75x75 at 0x7FD6EDED0C50>"
            ]
          },
          "metadata": {
            "tags": []
          }
        }
      ]
    },
    {
      "cell_type": "code",
      "metadata": {
        "id": "dxzFOiPgPWw5"
      },
      "source": [
        "#image2 = mpimg.imread(\"/content/drive/MyDrive/Colab-Notebooks/yelp-image-classification/rand_pics/0bhL0XvLMxn-W-fu2c7pkA.jpg\")\n",
        "#plt.imshow(image2)"
      ],
      "execution_count": 27,
      "outputs": []
    },
    {
      "cell_type": "code",
      "metadata": {
        "id": "Ts0sU-zwFxOl",
        "colab": {
          "base_uri": "https://localhost:8080/",
          "height": 35
        },
        "outputId": "56cf0bf2-7a4e-4991-9e9f-0ebb6c4689e2"
      },
      "source": [
        "df.loc[1044]['path']"
      ],
      "execution_count": 28,
      "outputs": [
        {
          "output_type": "execute_result",
          "data": {
            "application/vnd.google.colaboratory.intrinsic+json": {
              "type": "string"
            },
            "text/plain": [
              "'/content/drive/MyDrive/Colab-Notebooks/yelp-image-classification/rand_pics/0FfYeFWmxcJqxwyN5PZPbw.jpg'"
            ]
          },
          "metadata": {
            "tags": []
          },
          "execution_count": 28
        }
      ]
    },
    {
      "cell_type": "code",
      "metadata": {
        "id": "ppfiqEN2Td5A"
      },
      "source": [
        "img2 = cv2.imread('/content/drive/MyDrive/Colab-Notebooks/yelp-image-classification/rand_pics/0FfYeFWmxcJqxwyN5PZPbw.jpg')"
      ],
      "execution_count": 29,
      "outputs": []
    },
    {
      "cell_type": "code",
      "metadata": {
        "id": "ONNdJekKUQr0",
        "colab": {
          "base_uri": "https://localhost:8080/",
          "height": 92
        },
        "outputId": "862d208e-c28b-4f95-f35b-ef5ba3332f9a"
      },
      "source": [
        "cv2_imshow(img2)"
      ],
      "execution_count": 30,
      "outputs": [
        {
          "output_type": "display_data",
          "data": {
            "image/png": "[encoded data removed]",
            "text/plain": [
              "<PIL.Image.Image image mode=RGB size=75x75 at 0x7FD6F042D990>"
            ]
          },
          "metadata": {
            "tags": []
          }
        }
      ]
    },
    {
      "cell_type": "code",
      "metadata": {
        "id": "GJx6IWGdYxe-",
        "colab": {
          "base_uri": "https://localhost:8080/",
          "height": 35
        },
        "outputId": "0f5ad583-2250-49e4-c36b-d483a0f7b22a"
      },
      "source": [
        "df.loc[1167]['path']"
      ],
      "execution_count": 31,
      "outputs": [
        {
          "output_type": "execute_result",
          "data": {
            "application/vnd.google.colaboratory.intrinsic+json": {
              "type": "string"
            },
            "text/plain": [
              "'/content/drive/MyDrive/Colab-Notebooks/yelp-image-classification/rand_pics/0glSs9z_jEE5VYVUwrsFIA.jpg'"
            ]
          },
          "metadata": {
            "tags": []
          },
          "execution_count": 31
        }
      ]
    },
    {
      "cell_type": "code",
      "metadata": {
        "id": "CzKtqJPQWyJJ",
        "colab": {
          "base_uri": "https://localhost:8080/",
          "height": 285
        },
        "outputId": "91699165-7847-411b-b68c-2e4402fccfe9"
      },
      "source": [
        "# viewing an image using matplotlib\n",
        "import matplotlib.image as mpimg\n",
        "mimage = mpimg.imread(\"/content/drive/MyDrive/Colab-Notebooks/yelp-image-classification/rand_pics/0glSs9z_jEE5VYVUwrsFIA.jpg\")\n",
        "plt.imshow(mimage)"
      ],
      "execution_count": 32,
      "outputs": [
        {
          "output_type": "execute_result",
          "data": {
            "text/plain": [
              "<matplotlib.image.AxesImage at 0x7fd6edfecd90>"
            ]
          },
          "metadata": {
            "tags": []
          },
          "execution_count": 32
        },
        {
          "output_type": "display_data",
          "data": {
            "image/png": "[encoded data removed]",
            "text/plain": [
              "<Figure size 432x288 with 1 Axes>"
            ]
          },
          "metadata": {
            "tags": [],
            "needs_background": "light"
          }
        }
      ]
    },
    {
      "cell_type": "code",
      "metadata": {
        "id": "WYFvOZJvZD_B",
        "colab": {
          "base_uri": "https://localhost:8080/",
          "height": 292
        },
        "outputId": "50ab0297-835c-41d7-e5e0-caf3ebc005b0"
      },
      "source": [
        "df.label.value_counts().plot.bar()\n",
        "plt.show()"
      ],
      "execution_count": 33,
      "outputs": [
        {
          "output_type": "display_data",
          "data": {
            "image/png": "[encoded data removed]",
            "text/plain": [
              "<Figure size 432x288 with 1 Axes>"
            ]
          },
          "metadata": {
            "tags": [],
            "needs_background": "light"
          }
        }
      ]
    },
    {
      "cell_type": "code",
      "metadata": {
        "id": "QtYNLxCoggDF",
        "colab": {
          "base_uri": "https://localhost:8080/"
        },
        "outputId": "16677a0d-62f6-4a4b-adbc-3bd86b12421d"
      },
      "source": [
        "df['class_by_number'] = pd.Categorical(df['label']).codes"
      ],
      "execution_count": 34,
      "outputs": [
        {
          "output_type": "stream",
          "text": [
            "/usr/local/lib/python3.7/dist-packages/ipykernel_launcher.py:1: SettingWithCopyWarning: \n",
            "A value is trying to be set on a copy of a slice from a DataFrame.\n",
            "Try using .loc[row_indexer,col_indexer] = value instead\n",
            "\n",
            "See the caveats in the documentation: https://pandas.pydata.org/pandas-docs/stable/user_guide/indexing.html#returning-a-view-versus-a-copy\n",
            "  \"\"\"Entry point for launching an IPython kernel.\n"
          ],
          "name": "stderr"
        }
      ]
    },
    {
      "cell_type": "code",
      "metadata": {
        "id": "78tg8LNwoze2",
        "colab": {
          "base_uri": "https://localhost:8080/"
        },
        "outputId": "13310273-23a5-4c15-fd63-11318518d6c6"
      },
      "source": [
        "df['image'] = df['path'].map(lambda x: np.asarray(Image.open(x)))"
      ],
      "execution_count": 35,
      "outputs": [
        {
          "output_type": "stream",
          "text": [
            "/usr/local/lib/python3.7/dist-packages/ipykernel_launcher.py:1: SettingWithCopyWarning: \n",
            "A value is trying to be set on a copy of a slice from a DataFrame.\n",
            "Try using .loc[row_indexer,col_indexer] = value instead\n",
            "\n",
            "See the caveats in the documentation: https://pandas.pydata.org/pandas-docs/stable/user_guide/indexing.html#returning-a-view-versus-a-copy\n",
            "  \"\"\"Entry point for launching an IPython kernel.\n"
          ],
          "name": "stderr"
        }
      ]
    },
    {
      "cell_type": "code",
      "metadata": {
        "id": "ZfIFKJbNca_T"
      },
      "source": [
        "def rand_pic():\n",
        "  \"\"\"\n",
        "  function that displays a random image from the dataset\n",
        "  \"\"\"\n",
        "  \n",
        "  index =int(np.random.choice(df.index, 1))\n",
        "  path = df.loc[index]['path']\n",
        "  plt.figure()\n",
        "  img = mpimg.imread(path)\n",
        "  plt.xticks([])\n",
        "  plt.yticks([])\n",
        "  plt.grid(False)\n",
        "  plt.title(\"IMG # {} -\".format(index) + \" \" + df.loc[index]['label'])\n",
        "  plt.imshow(img)"
      ],
      "execution_count": 36,
      "outputs": []
    },
    {
      "cell_type": "code",
      "metadata": {
        "id": "MIZHKC41zG7L",
        "colab": {
          "base_uri": "https://localhost:8080/",
          "height": 268
        },
        "outputId": "ca4ba70a-4729-42bc-a97e-416969bd90c3"
      },
      "source": [
        "#df.loc[np.random.choice(df.index, 1)]\n",
        "rand_pic()"
      ],
      "execution_count": 37,
      "outputs": [
        {
          "output_type": "display_data",
          "data": {
            "image/png": "[encoded data removed]",
            "text/plain": [
              "<Figure size 432x288 with 1 Axes>"
            ]
          },
          "metadata": {
            "tags": []
          }
        }
      ]
    },
    {
      "cell_type": "code",
      "metadata": {
        "id": "qKGNk0Qa0vVm",
        "colab": {
          "base_uri": "https://localhost:8080/",
          "height": 92
        },
        "outputId": "4df9e9aa-3e1e-4aaa-80b5-34bc074a8f0a"
      },
      "source": [
        "#double checking if the image is correctly identified\n",
        "path = df.loc[116113]['path']\n",
        "x=cv2.imread(path)\n",
        "cv2_imshow(x)"
      ],
      "execution_count": 38,
      "outputs": [
        {
          "output_type": "display_data",
          "data": {
            "image/png": "[encoded data removed]",
            "text/plain": [
              "<PIL.Image.Image image mode=RGB size=75x75 at 0x7FD6EDEA2A50>"
            ]
          },
          "metadata": {
            "tags": []
          }
        }
      ]
    },
    {
      "cell_type": "code",
      "metadata": {
        "id": "ppuxKtflda0F"
      },
      "source": [
        "classes = ['food', 'inside', 'outside', 'drink', 'menu']\n",
        "num_classes = len(classes)\n",
        "classes_with_numbers = {0: 'drink',\n",
        "                      1: 'food',\n",
        "                      2: 'inside',\n",
        "                      3: 'menu',\n",
        "                      4: 'outside'\n",
        "                    }"
      ],
      "execution_count": 39,
      "outputs": []
    },
    {
      "cell_type": "code",
      "metadata": {
        "id": "bqzQVDEtioxm",
        "colab": {
          "base_uri": "https://localhost:8080/",
          "height": 204
        },
        "outputId": "6d0e5d13-e093-41ab-e565-0220fda52ff1"
      },
      "source": [
        "df.head()"
      ],
      "execution_count": 40,
      "outputs": [
        {
          "output_type": "execute_result",
          "data": {
            "text/html": [
              "<div>\n",
              "<style scoped>\n",
              "    .dataframe tbody tr th:only-of-type {\n",
              "        vertical-align: middle;\n",
              "    }\n",
              "\n",
              "    .dataframe tbody tr th {\n",
              "        vertical-align: top;\n",
              "    }\n",
              "\n",
              "    .dataframe thead th {\n",
              "        text-align: right;\n",
              "    }\n",
              "</style>\n",
              "<table border=\"1\" class=\"dataframe\">\n",
              "  <thead>\n",
              "    <tr style=\"text-align: right;\">\n",
              "      <th></th>\n",
              "      <th>photo_id</th>\n",
              "      <th>business_id</th>\n",
              "      <th>caption</th>\n",
              "      <th>label</th>\n",
              "      <th>path</th>\n",
              "      <th>class_by_number</th>\n",
              "      <th>image</th>\n",
              "    </tr>\n",
              "  </thead>\n",
              "  <tbody>\n",
              "    <tr>\n",
              "      <th>636</th>\n",
              "      <td>0bhL0XvLMxn-W-fu2c7pkA</td>\n",
              "      <td>H4E4sZ6PKBef65hU0GKi_g</td>\n",
              "      <td>Our Kingpin room has 2 lanes, private bar acce...</td>\n",
              "      <td>inside</td>\n",
              "      <td>/content/drive/MyDrive/Colab-Notebooks/yelp-im...</td>\n",
              "      <td>2</td>\n",
              "      <td>[[[166, 116, 83], [161, 112, 80], [165, 118, 8...</td>\n",
              "    </tr>\n",
              "    <tr>\n",
              "      <th>933</th>\n",
              "      <td>0eFLVEyJhskLZgnbecseKg</td>\n",
              "      <td>PIpCmok4zzozeSI7iT9H9A</td>\n",
              "      <td></td>\n",
              "      <td>outside</td>\n",
              "      <td>/content/drive/MyDrive/Colab-Notebooks/yelp-im...</td>\n",
              "      <td>4</td>\n",
              "      <td>[[[137, 153, 205], [136, 152, 204], [134, 150,...</td>\n",
              "    </tr>\n",
              "    <tr>\n",
              "      <th>1044</th>\n",
              "      <td>0FfYeFWmxcJqxwyN5PZPbw</td>\n",
              "      <td>umXvdus9LbC6oxtLdXelFQ</td>\n",
              "      <td></td>\n",
              "      <td>food</td>\n",
              "      <td>/content/drive/MyDrive/Colab-Notebooks/yelp-im...</td>\n",
              "      <td>1</td>\n",
              "      <td>[[[83, 59, 47], [124, 102, 91], [154, 137, 127...</td>\n",
              "    </tr>\n",
              "    <tr>\n",
              "      <th>1167</th>\n",
              "      <td>0glSs9z_jEE5VYVUwrsFIA</td>\n",
              "      <td>woXlprCuowrLJswWere3TQ</td>\n",
              "      <td></td>\n",
              "      <td>inside</td>\n",
              "      <td>/content/drive/MyDrive/Colab-Notebooks/yelp-im...</td>\n",
              "      <td>2</td>\n",
              "      <td>[[[42, 18, 16], [26, 12, 12], [24, 17, 24], [2...</td>\n",
              "    </tr>\n",
              "    <tr>\n",
              "      <th>1367</th>\n",
              "      <td>0ifISIekaQ9xge4_fXyHwg</td>\n",
              "      <td>2FfZUyA82YhQCjWNiqDCzQ</td>\n",
              "      <td>Inside Lenny's!</td>\n",
              "      <td>inside</td>\n",
              "      <td>/content/drive/MyDrive/Colab-Notebooks/yelp-im...</td>\n",
              "      <td>2</td>\n",
              "      <td>[[[78, 69, 74], [58, 48, 49], [51, 35, 36], [5...</td>\n",
              "    </tr>\n",
              "  </tbody>\n",
              "</table>\n",
              "</div>"
            ],
            "text/plain": [
              "                    photo_id  ...                                              image\n",
              "636   0bhL0XvLMxn-W-fu2c7pkA  ...  [[[166, 116, 83], [161, 112, 80], [165, 118, 8...\n",
              "933   0eFLVEyJhskLZgnbecseKg  ...  [[[137, 153, 205], [136, 152, 204], [134, 150,...\n",
              "1044  0FfYeFWmxcJqxwyN5PZPbw  ...  [[[83, 59, 47], [124, 102, 91], [154, 137, 127...\n",
              "1167  0glSs9z_jEE5VYVUwrsFIA  ...  [[[42, 18, 16], [26, 12, 12], [24, 17, 24], [2...\n",
              "1367  0ifISIekaQ9xge4_fXyHwg  ...  [[[78, 69, 74], [58, 48, 49], [51, 35, 36], [5...\n",
              "\n",
              "[5 rows x 7 columns]"
            ]
          },
          "metadata": {
            "tags": []
          },
          "execution_count": 40
        }
      ]
    },
    {
      "cell_type": "code",
      "metadata": {
        "id": "eVvNsFKgIhG8",
        "colab": {
          "base_uri": "https://localhost:8080/"
        },
        "outputId": "81cb1673-5ac6-4926-c31c-080b396db9b4"
      },
      "source": [
        "df.shape"
      ],
      "execution_count": 41,
      "outputs": [
        {
          "output_type": "execute_result",
          "data": {
            "text/plain": [
              "(1000, 7)"
            ]
          },
          "metadata": {
            "tags": []
          },
          "execution_count": 41
        }
      ]
    },
    {
      "cell_type": "code",
      "metadata": {
        "id": "R8HmG0L68tSY",
        "colab": {
          "base_uri": "https://localhost:8080/"
        },
        "outputId": "6916a554-d8dc-487e-b7fe-84a580e48866"
      },
      "source": [
        "df['image'].map(lambda x:x.shape).value_counts()"
      ],
      "execution_count": 42,
      "outputs": [
        {
          "output_type": "execute_result",
          "data": {
            "text/plain": [
              "(75, 75, 3)    1000\n",
              "Name: image, dtype: int64"
            ]
          },
          "metadata": {
            "tags": []
          },
          "execution_count": 42
        }
      ]
    },
    {
      "cell_type": "markdown",
      "metadata": {
        "id": "IPJl915pg0-r"
      },
      "source": [
        "Resizing all the Images"
      ]
    },
    {
      "cell_type": "code",
      "metadata": {
        "id": "jS3yZZmpeNPy"
      },
      "source": [
        "#-----------------------------------RESIZING images------------------------------------\n",
        "#dir = \"/content/drive/MyDrive/Colab-Notebooks/yelp-image-classification/rand_pics\"\n",
        "\n",
        "#for filename in glob.iglob(dir + '/*.jpg'):\n",
        "#  im = Image.open(filename)\n",
        "#  imResize = im.resize((75,75), Image.ANTIALIAS)\n",
        "#  imResize.save(filename, 'JPEG', quality = 90)"
      ],
      "execution_count": 43,
      "outputs": []
    },
    {
      "cell_type": "markdown",
      "metadata": {
        "id": "YMHgkxoPemGv"
      },
      "source": [
        "Create and Compile a Model\n",
        "\n",
        "1. Build the model\n",
        "    *   3 Layer Fully Connected Convolutional Neural Network\n",
        "    *   XGBoost \n",
        "2. Run the model\n",
        "3. Train/Fit the data to the model\n",
        "4. Evaluate the model on the test set \n",
        "5. Error Analysis"
      ]
    },
    {
      "cell_type": "code",
      "metadata": {
        "id": "DqIVcIC0-qF5",
        "colab": {
          "base_uri": "https://localhost:8080/",
          "height": 419
        },
        "outputId": "95293df4-8aa5-4a94-f7f9-d00c6710a654"
      },
      "source": [
        "from sklearn.utils import shuffle\n",
        "import random\n",
        "shuffle(df)"
      ],
      "execution_count": 44,
      "outputs": [
        {
          "output_type": "execute_result",
          "data": {
            "text/html": [
              "<div>\n",
              "<style scoped>\n",
              "    .dataframe tbody tr th:only-of-type {\n",
              "        vertical-align: middle;\n",
              "    }\n",
              "\n",
              "    .dataframe tbody tr th {\n",
              "        vertical-align: top;\n",
              "    }\n",
              "\n",
              "    .dataframe thead th {\n",
              "        text-align: right;\n",
              "    }\n",
              "</style>\n",
              "<table border=\"1\" class=\"dataframe\">\n",
              "  <thead>\n",
              "    <tr style=\"text-align: right;\">\n",
              "      <th></th>\n",
              "      <th>photo_id</th>\n",
              "      <th>business_id</th>\n",
              "      <th>caption</th>\n",
              "      <th>label</th>\n",
              "      <th>path</th>\n",
              "      <th>class_by_number</th>\n",
              "      <th>image</th>\n",
              "    </tr>\n",
              "  </thead>\n",
              "  <tbody>\n",
              "    <tr>\n",
              "      <th>195246</th>\n",
              "      <td>ZD0HwHujehd3Y_dsJQSTQA</td>\n",
              "      <td>500mXn_L5a4MI9GrOXvTeQ</td>\n",
              "      <td></td>\n",
              "      <td>inside</td>\n",
              "      <td>/content/drive/MyDrive/Colab-Notebooks/yelp-im...</td>\n",
              "      <td>2</td>\n",
              "      <td>[[[139, 88, 31], [140, 87, 35], [144, 85, 41],...</td>\n",
              "    </tr>\n",
              "    <tr>\n",
              "      <th>171046</th>\n",
              "      <td>vklq5SHfJXc3f5fh9xstkQ</td>\n",
              "      <td>P6O50VeFlBIJpP0QPYsXbQ</td>\n",
              "      <td>4/20/18 Guy Savoy: Pain de Campagne and Honey ...</td>\n",
              "      <td>food</td>\n",
              "      <td>/content/drive/MyDrive/Colab-Notebooks/yelp-im...</td>\n",
              "      <td>1</td>\n",
              "      <td>[[[169, 184, 223], [167, 182, 221], [173, 189,...</td>\n",
              "    </tr>\n",
              "    <tr>\n",
              "      <th>78285</th>\n",
              "      <td>haXzolTYWSRbMJUE2EQLyg</td>\n",
              "      <td>P7pxQFqr7yBKMMI2J51udw</td>\n",
              "      <td>Burgers and fried stuff. Popcorn that made me ...</td>\n",
              "      <td>food</td>\n",
              "      <td>/content/drive/MyDrive/Colab-Notebooks/yelp-im...</td>\n",
              "      <td>1</td>\n",
              "      <td>[[[225, 232, 225], [183, 167, 151], [194, 159,...</td>\n",
              "    </tr>\n",
              "    <tr>\n",
              "      <th>121841</th>\n",
              "      <td>nXS1HWzg2VPafvDO_6V8hA</td>\n",
              "      <td>E0TK141YMBP0LBknhVKEqw</td>\n",
              "      <td>YUMMMMM</td>\n",
              "      <td>food</td>\n",
              "      <td>/content/drive/MyDrive/Colab-Notebooks/yelp-im...</td>\n",
              "      <td>1</td>\n",
              "      <td>[[[149, 121, 100], [112, 90, 76], [85, 69, 56]...</td>\n",
              "    </tr>\n",
              "    <tr>\n",
              "      <th>199648</th>\n",
              "      <td>Zy4ie5ar2DGraeFahcSocA</td>\n",
              "      <td>7KUbrldK58sIV1K43p5a2w</td>\n",
              "      <td></td>\n",
              "      <td>inside</td>\n",
              "      <td>/content/drive/MyDrive/Colab-Notebooks/yelp-im...</td>\n",
              "      <td>2</td>\n",
              "      <td>[[[111, 30, 37], [136, 68, 69], [198, 154, 145...</td>\n",
              "    </tr>\n",
              "    <tr>\n",
              "      <th>...</th>\n",
              "      <td>...</td>\n",
              "      <td>...</td>\n",
              "      <td>...</td>\n",
              "      <td>...</td>\n",
              "      <td>...</td>\n",
              "      <td>...</td>\n",
              "      <td>...</td>\n",
              "    </tr>\n",
              "    <tr>\n",
              "      <th>48745</th>\n",
              "      <td>Cn4OAwJLnEIeEzxMggh7rg</td>\n",
              "      <td>i--dxuKd_6Dx7mwgQ5nl-g</td>\n",
              "      <td>Cinnamon sugar pecan pancakes</td>\n",
              "      <td>food</td>\n",
              "      <td>/content/drive/MyDrive/Colab-Notebooks/yelp-im...</td>\n",
              "      <td>1</td>\n",
              "      <td>[[[175, 116, 76], [177, 118, 78], [179, 121, 8...</td>\n",
              "    </tr>\n",
              "    <tr>\n",
              "      <th>74145</th>\n",
              "      <td>GlRamDV3I-LECfQzpN2QEA</td>\n",
              "      <td>4p6Wce7Ed707QS2-yQkvZw</td>\n",
              "      <td>Tuna</td>\n",
              "      <td>food</td>\n",
              "      <td>/content/drive/MyDrive/Colab-Notebooks/yelp-im...</td>\n",
              "      <td>1</td>\n",
              "      <td>[[[254, 255, 251], [254, 255, 251], [254, 255,...</td>\n",
              "    </tr>\n",
              "    <tr>\n",
              "      <th>119277</th>\n",
              "      <td>nljYHw00We1Sx_o8RaN-GQ</td>\n",
              "      <td>vEi90fV7Du9wB3KbeORWHw</td>\n",
              "      <td></td>\n",
              "      <td>food</td>\n",
              "      <td>/content/drive/MyDrive/Colab-Notebooks/yelp-im...</td>\n",
              "      <td>1</td>\n",
              "      <td>[[[255, 253, 250], [255, 255, 247], [254, 255,...</td>\n",
              "    </tr>\n",
              "    <tr>\n",
              "      <th>62858</th>\n",
              "      <td>ESBSEHnknxBrd28FdVm2wA</td>\n",
              "      <td>tMeEiLIGW-k0fNLhDsD9Ww</td>\n",
              "      <td></td>\n",
              "      <td>food</td>\n",
              "      <td>/content/drive/MyDrive/Colab-Notebooks/yelp-im...</td>\n",
              "      <td>1</td>\n",
              "      <td>[[[132, 82, 47], [136, 86, 51], [140, 90, 53],...</td>\n",
              "    </tr>\n",
              "    <tr>\n",
              "      <th>184863</th>\n",
              "      <td>XOTu3DzoAGlXUa46dWqE-g</td>\n",
              "      <td>W7gGZgcgzv-LFvk-s5csXg</td>\n",
              "      <td></td>\n",
              "      <td>inside</td>\n",
              "      <td>/content/drive/MyDrive/Colab-Notebooks/yelp-im...</td>\n",
              "      <td>2</td>\n",
              "      <td>[[[22, 22, 24], [26, 24, 25], [29, 25, 22], [3...</td>\n",
              "    </tr>\n",
              "  </tbody>\n",
              "</table>\n",
              "<p>1000 rows × 7 columns</p>\n",
              "</div>"
            ],
            "text/plain": [
              "                      photo_id  ...                                              image\n",
              "195246  ZD0HwHujehd3Y_dsJQSTQA  ...  [[[139, 88, 31], [140, 87, 35], [144, 85, 41],...\n",
              "171046  vklq5SHfJXc3f5fh9xstkQ  ...  [[[169, 184, 223], [167, 182, 221], [173, 189,...\n",
              "78285   haXzolTYWSRbMJUE2EQLyg  ...  [[[225, 232, 225], [183, 167, 151], [194, 159,...\n",
              "121841  nXS1HWzg2VPafvDO_6V8hA  ...  [[[149, 121, 100], [112, 90, 76], [85, 69, 56]...\n",
              "199648  Zy4ie5ar2DGraeFahcSocA  ...  [[[111, 30, 37], [136, 68, 69], [198, 154, 145...\n",
              "...                        ...  ...                                                ...\n",
              "48745   Cn4OAwJLnEIeEzxMggh7rg  ...  [[[175, 116, 76], [177, 118, 78], [179, 121, 8...\n",
              "74145   GlRamDV3I-LECfQzpN2QEA  ...  [[[254, 255, 251], [254, 255, 251], [254, 255,...\n",
              "119277  nljYHw00We1Sx_o8RaN-GQ  ...  [[[255, 253, 250], [255, 255, 247], [254, 255,...\n",
              "62858   ESBSEHnknxBrd28FdVm2wA  ...  [[[132, 82, 47], [136, 86, 51], [140, 90, 53],...\n",
              "184863  XOTu3DzoAGlXUa46dWqE-g  ...  [[[22, 22, 24], [26, 24, 25], [29, 25, 22], [3...\n",
              "\n",
              "[1000 rows x 7 columns]"
            ]
          },
          "metadata": {
            "tags": []
          },
          "execution_count": 44
        }
      ]
    },
    {
      "cell_type": "code",
      "metadata": {
        "id": "U_PkVLtqdnaq",
        "colab": {
          "base_uri": "https://localhost:8080/"
        },
        "outputId": "e255836e-89b0-4155-f3b3-542f7177c2ee"
      },
      "source": [
        "df.dtypes"
      ],
      "execution_count": 45,
      "outputs": [
        {
          "output_type": "execute_result",
          "data": {
            "text/plain": [
              "photo_id           object\n",
              "business_id        object\n",
              "caption            object\n",
              "label              object\n",
              "path               object\n",
              "class_by_number      int8\n",
              "image              object\n",
              "dtype: object"
            ]
          },
          "metadata": {
            "tags": []
          },
          "execution_count": 45
        }
      ]
    },
    {
      "cell_type": "code",
      "metadata": {
        "id": "71XhZSTmebj8"
      },
      "source": [
        "#df['image'].astype('float32')"
      ],
      "execution_count": 46,
      "outputs": []
    },
    {
      "cell_type": "code",
      "metadata": {
        "id": "GqP59LIg-dAS"
      },
      "source": [
        "#X = df.drop(columns = ['class_by_number'], axis=1).values\n",
        "#y = df['class_by_number'].values"
      ],
      "execution_count": 47,
      "outputs": []
    },
    {
      "cell_type": "code",
      "metadata": {
        "id": "POp5xAhCiF1n"
      },
      "source": [
        "X= np.array(df['image'].values.tolist())\n",
        "y=np.array(df['class_by_number'].values.tolist())"
      ],
      "execution_count": 48,
      "outputs": []
    },
    {
      "cell_type": "code",
      "metadata": {
        "id": "9112NhywiFT7"
      },
      "source": [
        ""
      ],
      "execution_count": 48,
      "outputs": []
    },
    {
      "cell_type": "code",
      "metadata": {
        "id": "637OJUn-5ntP",
        "colab": {
          "base_uri": "https://localhost:8080/"
        },
        "outputId": "b304b292-10bf-40fc-c080-6bda389b2318"
      },
      "source": [
        "type(X)"
      ],
      "execution_count": 49,
      "outputs": [
        {
          "output_type": "execute_result",
          "data": {
            "text/plain": [
              "numpy.ndarray"
            ]
          },
          "metadata": {
            "tags": []
          },
          "execution_count": 49
        }
      ]
    },
    {
      "cell_type": "code",
      "metadata": {
        "id": "haKRRBaGXxgC"
      },
      "source": [
        "#X = np.asarray(X).astype('float32')"
      ],
      "execution_count": 50,
      "outputs": []
    },
    {
      "cell_type": "code",
      "metadata": {
        "id": "B2O0gmw9haW7"
      },
      "source": [
        "from sklearn.model_selection import train_test_split\n",
        "X_train_, X_test_, y_train, y_test= train_test_split(X,y,test_size=0.2, random_state=43)"
      ],
      "execution_count": 51,
      "outputs": []
    },
    {
      "cell_type": "code",
      "metadata": {
        "id": "oDmXAjWcfNg-",
        "colab": {
          "base_uri": "https://localhost:8080/",
          "height": 267
        },
        "outputId": "35c98f7e-7aff-4dd0-8219-f631cb25367b"
      },
      "source": [
        "size = np.bincount(y)\n",
        "explode = (0,0,0,0,0,0)\n",
        "plt.pie(size,explode=None, labels=classes,autopct = '%1.1f%%', shadow=True, startangle = 150)\n",
        "plt.axis('equal')\n",
        "plt.title(\"Proportion of each observed category\")\n",
        "\n",
        "plt.show()"
      ],
      "execution_count": 52,
      "outputs": [
        {
          "output_type": "display_data",
          "data": {
            "image/png": "[encoded data removed]",
            "text/plain": [
              "<Figure size 432x288 with 1 Axes>"
            ]
          },
          "metadata": {
            "tags": []
          }
        }
      ]
    },
    {
      "cell_type": "code",
      "metadata": {
        "id": "IqGCgRlFigBq"
      },
      "source": [
        "X_train_mean = np.mean(X_train_)\n",
        "X_train_std = np.std(X_train_)\n",
        "\n",
        "X_test_mean = np.mean(X_test_)\n",
        "X_test_std = np.std(X_test_)\n",
        "\n",
        "X_train = (X_train_ - X_train_mean)/X_train_std\n",
        "X_test = (X_test_ - X_test_mean) / X_test_std"
      ],
      "execution_count": 55,
      "outputs": []
    },
    {
      "cell_type": "markdown",
      "metadata": {
        "id": "NSqSunAaRNP7"
      },
      "source": [
        "Normalizing the data"
      ]
    },
    {
      "cell_type": "code",
      "metadata": {
        "colab": {
          "base_uri": "https://localhost:8080/",
          "height": 232
        },
        "id": "iJjetNy7RJ9o",
        "outputId": "1645b158-cd03-4227-80cf-922a540c7b45"
      },
      "source": [
        "X_train_[\"image\"] = X_train_['image'].astype(\"int32\")\n",
        "X_test_[\"image\"] = X_test_['image'].astype('int32')\n",
        "\n",
        "X_train = np.array(X_train_['image'].tolist())\n",
        "X_test = np.array(X_test_['image'].tolist())\n",
        "\n",
        "X_train_mean = np.mean(X_train)\n",
        "X_train_std = np.std(X_train)\n",
        "\n",
        "X_test_mean = np.mean(X_test)\n",
        "X_test_std = np.std(X_test)\n",
        "\n",
        "X_train = (X_train - X_train_mean)/X_train_std\n",
        "X_test = (X_test - X_est_mean) / X_test_std"
      ],
      "execution_count": null,
      "outputs": [
        {
          "output_type": "error",
          "ename": "IndexError",
          "evalue": "ignored",
          "traceback": [
            "\u001b[0;31m---------------------------------------------------------------------------\u001b[0m",
            "\u001b[0;31mIndexError\u001b[0m                                Traceback (most recent call last)",
            "\u001b[0;32m<ipython-input-52-0011af65fe4e>\u001b[0m in \u001b[0;36m<module>\u001b[0;34m()\u001b[0m\n\u001b[0;32m----> 1\u001b[0;31m \u001b[0mX_train_\u001b[0m\u001b[0;34m[\u001b[0m\u001b[0;34m\"image\"\u001b[0m\u001b[0;34m]\u001b[0m \u001b[0;34m=\u001b[0m \u001b[0mX_train_\u001b[0m\u001b[0;34m[\u001b[0m\u001b[0;34m'image'\u001b[0m\u001b[0;34m]\u001b[0m\u001b[0;34m.\u001b[0m\u001b[0mastype\u001b[0m\u001b[0;34m(\u001b[0m\u001b[0;34m\"int32\"\u001b[0m\u001b[0;34m)\u001b[0m\u001b[0;34m\u001b[0m\u001b[0;34m\u001b[0m\u001b[0m\n\u001b[0m\u001b[1;32m      2\u001b[0m \u001b[0mX_test_\u001b[0m\u001b[0;34m[\u001b[0m\u001b[0;34m\"image\"\u001b[0m\u001b[0;34m]\u001b[0m \u001b[0;34m=\u001b[0m \u001b[0mX_test_\u001b[0m\u001b[0;34m[\u001b[0m\u001b[0;34m'image'\u001b[0m\u001b[0;34m]\u001b[0m\u001b[0;34m.\u001b[0m\u001b[0mastype\u001b[0m\u001b[0;34m(\u001b[0m\u001b[0;34m'int32'\u001b[0m\u001b[0;34m)\u001b[0m\u001b[0;34m\u001b[0m\u001b[0;34m\u001b[0m\u001b[0m\n\u001b[1;32m      3\u001b[0m \u001b[0;34m\u001b[0m\u001b[0m\n\u001b[1;32m      4\u001b[0m \u001b[0mX_train\u001b[0m \u001b[0;34m=\u001b[0m \u001b[0mnp\u001b[0m\u001b[0;34m.\u001b[0m\u001b[0marray\u001b[0m\u001b[0;34m(\u001b[0m\u001b[0mX_train_\u001b[0m\u001b[0;34m[\u001b[0m\u001b[0;34m'image'\u001b[0m\u001b[0;34m]\u001b[0m\u001b[0;34m.\u001b[0m\u001b[0mtolist\u001b[0m\u001b[0;34m(\u001b[0m\u001b[0;34m)\u001b[0m\u001b[0;34m)\u001b[0m\u001b[0;34m\u001b[0m\u001b[0;34m\u001b[0m\u001b[0m\n\u001b[1;32m      5\u001b[0m \u001b[0mX_test\u001b[0m \u001b[0;34m=\u001b[0m \u001b[0mnp\u001b[0m\u001b[0;34m.\u001b[0m\u001b[0marray\u001b[0m\u001b[0;34m(\u001b[0m\u001b[0mX_test_\u001b[0m\u001b[0;34m[\u001b[0m\u001b[0;34m'image'\u001b[0m\u001b[0;34m]\u001b[0m\u001b[0;34m.\u001b[0m\u001b[0mtolist\u001b[0m\u001b[0;34m(\u001b[0m\u001b[0;34m)\u001b[0m\u001b[0;34m)\u001b[0m\u001b[0;34m\u001b[0m\u001b[0;34m\u001b[0m\u001b[0m\n",
            "\u001b[0;31mIndexError\u001b[0m: only integers, slices (`:`), ellipsis (`...`), numpy.newaxis (`None`) and integer or boolean arrays are valid indices"
          ]
        }
      ]
    },
    {
      "cell_type": "code",
      "metadata": {
        "colab": {
          "base_uri": "https://localhost:8080/"
        },
        "id": "_lYo-ttwhrBh",
        "outputId": "d97731c1-3136-4cc7-9eb9-8bb82a31df45"
      },
      "source": [
        "X_train_"
      ],
      "execution_count": null,
      "outputs": [
        {
          "output_type": "execute_result",
          "data": {
            "text/plain": [
              "array([['9hkFkEetQwLpxRy6FhzE5w', 'lAR6Lj6-zBxQNqflZt0zTQ', '', 'food',\n",
              "        '/content/drive/MyDrive/Colab-Notebooks/yelp-image-classification/rand_pics/9hkFkEetQwLpxRy6FhzE5w.jpg',\n",
              "        array([[[234, 233, 229],\n",
              "        [238, 239, 241],\n",
              "        [251, 255, 255],\n",
              "        ...,\n",
              "        [255, 244, 255],\n",
              "        [246, 233, 240],\n",
              "        [252, 233, 237]],\n",
              "\n",
              "       [[247, 238, 231],\n",
              "        [226, 215, 213],\n",
              "        [128, 118, 119],\n",
              "        ...,\n",
              "        [193, 196, 201],\n",
              "        [247, 246, 251],\n",
              "        [244, 244, 242]],\n",
              "\n",
              "       [[255, 252, 241],\n",
              "        [151, 130, 125],\n",
              "        [ 34,   0,   0],\n",
              "        ...,\n",
              "        [ 89,  94,  98],\n",
              "        [231, 241, 242],\n",
              "        [232, 252, 243]],\n",
              "\n",
              "       ...,\n",
              "\n",
              "       [[228, 255, 238],\n",
              "        [109, 131, 110],\n",
              "        [122, 109,  93],\n",
              "        ...,\n",
              "        [101,  57,  56],\n",
              "        [239, 236, 229],\n",
              "        [236, 245, 242]],\n",
              "\n",
              "       [[231, 249, 223],\n",
              "        [205, 225, 197],\n",
              "        [123, 129, 103],\n",
              "        ...,\n",
              "        [187, 168, 164],\n",
              "        [255, 254, 250],\n",
              "        [241, 241, 243]],\n",
              "\n",
              "       [[239, 234, 215],\n",
              "        [248, 255, 233],\n",
              "        [230, 242, 218],\n",
              "        ...,\n",
              "        [245, 244, 239],\n",
              "        [251, 251, 251],\n",
              "        [242, 237, 243]]], dtype=uint8)],\n",
              "       ['6KL_eYHGc423XisoNDQBng', '-1m9o3vGRA8IBPNvNqKLmA',\n",
              "        \"Bavette's 07/11/19\", 'inside',\n",
              "        '/content/drive/MyDrive/Colab-Notebooks/yelp-image-classification/rand_pics/6KL_eYHGc423XisoNDQBng.jpg',\n",
              "        array([[[  4,   3,   9],\n",
              "        [  5,   3,   8],\n",
              "        [  7,   2,   8],\n",
              "        ...,\n",
              "        [138,  92,  56],\n",
              "        [140,  92,  52],\n",
              "        [142,  93,  52]],\n",
              "\n",
              "       [[  4,   2,   7],\n",
              "        [  5,   3,   8],\n",
              "        [  7,   2,   6],\n",
              "        ...,\n",
              "        [126,  87,  56],\n",
              "        [128,  87,  55],\n",
              "        [129,  89,  54]],\n",
              "\n",
              "       [[  5,   3,   8],\n",
              "        [  8,   3,   7],\n",
              "        [  8,   3,   7],\n",
              "        ...,\n",
              "        [ 84,  57,  38],\n",
              "        [ 86,  58,  37],\n",
              "        [ 89,  58,  37]],\n",
              "\n",
              "       ...,\n",
              "\n",
              "       [[  2,   4,   0],\n",
              "        [  4,   3,   0],\n",
              "        [ 10,   1,   2],\n",
              "        ...,\n",
              "        [105,  40,   8],\n",
              "        [106,  42,   7],\n",
              "        [110,  44,  10]],\n",
              "\n",
              "       [[  3,   4,   0],\n",
              "        [  5,   4,   2],\n",
              "        [  5,   3,   4],\n",
              "        ...,\n",
              "        [110,  43,  14],\n",
              "        [109,  42,  13],\n",
              "        [109,  43,  11]],\n",
              "\n",
              "       [[  5,   4,   2],\n",
              "        [  5,   4,   2],\n",
              "        [  4,   4,   4],\n",
              "        ...,\n",
              "        [115,  48,  21],\n",
              "        [113,  43,  17],\n",
              "        [110,  40,  14]]], dtype=uint8)],\n",
              "       ['SH5-_-Jp0BGCYK7h0ZGxpg', 'AuPYaH4qlRsW0OaOeF8Wbg', '', 'inside',\n",
              "        '/content/drive/MyDrive/Colab-Notebooks/yelp-image-classification/rand_pics/SH5-_-Jp0BGCYK7h0ZGxpg.jpg',\n",
              "        array([[[192, 188, 179],\n",
              "        [185, 181, 172],\n",
              "        [186, 182, 173],\n",
              "        ...,\n",
              "        [126, 122, 113],\n",
              "        [115, 111, 102],\n",
              "        [113, 109, 100]],\n",
              "\n",
              "       [[195, 191, 182],\n",
              "        [197, 193, 184],\n",
              "        [194, 191, 182],\n",
              "        ...,\n",
              "        [117, 110, 102],\n",
              "        [118, 111, 103],\n",
              "        [109, 105,  96]],\n",
              "\n",
              "       [[184, 181, 172],\n",
              "        [193, 190, 181],\n",
              "        [193, 190, 181],\n",
              "        ...,\n",
              "        [ 79,  72,  64],\n",
              "        [102,  95,  85],\n",
              "        [ 93,  86,  76]],\n",
              "\n",
              "       ...,\n",
              "\n",
              "       [[ 59,  56,  67],\n",
              "        [ 51,  48,  59],\n",
              "        [ 46,  43,  54],\n",
              "        ...,\n",
              "        [ 63,  69,  83],\n",
              "        [ 78,  86, 105],\n",
              "        [ 75,  86, 108]],\n",
              "\n",
              "       [[ 58,  55,  66],\n",
              "        [ 50,  47,  58],\n",
              "        [ 45,  42,  53],\n",
              "        ...,\n",
              "        [ 59,  65,  79],\n",
              "        [ 77,  84, 102],\n",
              "        [ 76,  87, 109]],\n",
              "\n",
              "       [[ 57,  54,  65],\n",
              "        [ 49,  46,  57],\n",
              "        [ 44,  41,  52],\n",
              "        ...,\n",
              "        [ 54,  60,  74],\n",
              "        [ 75,  82, 100],\n",
              "        [ 79,  87, 108]]], dtype=uint8)],\n",
              "       ...,\n",
              "       ['d3vbCleB5cVwvKpxv1qTNw', '5keoVVM81g-nJw0Zdpl1nA', '', 'food',\n",
              "        '/content/drive/MyDrive/Colab-Notebooks/yelp-image-classification/rand_pics/d3vbCleB5cVwvKpxv1qTNw.jpg',\n",
              "        array([[[ 77,  61,  45],\n",
              "        [ 85,  69,  53],\n",
              "        [ 81,  65,  50],\n",
              "        ...,\n",
              "        [153, 137, 121],\n",
              "        [147, 131, 115],\n",
              "        [143, 127, 112]],\n",
              "\n",
              "       [[ 80,  64,  48],\n",
              "        [ 89,  73,  57],\n",
              "        [ 85,  69,  54],\n",
              "        ...,\n",
              "        [158, 141, 123],\n",
              "        [154, 137, 119],\n",
              "        [150, 134, 118]],\n",
              "\n",
              "       [[ 73,  57,  41],\n",
              "        [ 79,  63,  47],\n",
              "        [ 74,  58,  43],\n",
              "        ...,\n",
              "        [116,  98,  78],\n",
              "        [117,  99,  79],\n",
              "        [118, 100,  80]],\n",
              "\n",
              "       ...,\n",
              "\n",
              "       [[ 54,  38,  25],\n",
              "        [ 51,  37,  24],\n",
              "        [ 46,  32,  19],\n",
              "        ...,\n",
              "        [105,  85,  61],\n",
              "        [131, 111,  86],\n",
              "        [151, 131, 106]],\n",
              "\n",
              "       [[ 71,  55,  42],\n",
              "        [ 67,  53,  40],\n",
              "        [ 59,  45,  32],\n",
              "        ...,\n",
              "        [ 87,  67,  43],\n",
              "        [113,  93,  68],\n",
              "        [132, 112,  87]],\n",
              "\n",
              "       [[ 68,  52,  37],\n",
              "        [ 66,  50,  37],\n",
              "        [ 59,  45,  32],\n",
              "        ...,\n",
              "        [103,  83,  59],\n",
              "        [129, 109,  84],\n",
              "        [149, 127, 103]]], dtype=uint8)],\n",
              "       ['EwOWKZm6pvjqeBErHHymWg', 'Ou9RNq18vfbfL-7adJNA9A', '', 'food',\n",
              "        '/content/drive/MyDrive/Colab-Notebooks/yelp-image-classification/rand_pics/EwOWKZm6pvjqeBErHHymWg.jpg',\n",
              "        array([[[225, 218, 208],\n",
              "        [224, 217, 207],\n",
              "        [225, 218, 208],\n",
              "        ...,\n",
              "        [236, 229, 221],\n",
              "        [236, 229, 221],\n",
              "        [236, 229, 221]],\n",
              "\n",
              "       [[225, 218, 208],\n",
              "        [224, 217, 207],\n",
              "        [224, 217, 207],\n",
              "        ...,\n",
              "        [237, 230, 222],\n",
              "        [237, 230, 222],\n",
              "        [237, 230, 222]],\n",
              "\n",
              "       [[225, 218, 208],\n",
              "        [224, 217, 207],\n",
              "        [224, 217, 207],\n",
              "        ...,\n",
              "        [237, 230, 222],\n",
              "        [237, 230, 222],\n",
              "        [237, 230, 222]],\n",
              "\n",
              "       ...,\n",
              "\n",
              "       [[217, 213, 212],\n",
              "        [203, 199, 198],\n",
              "        [199, 195, 194],\n",
              "        ...,\n",
              "        [220, 219, 217],\n",
              "        [219, 219, 217],\n",
              "        [219, 219, 217]],\n",
              "\n",
              "       [[217, 213, 212],\n",
              "        [212, 208, 207],\n",
              "        [208, 204, 203],\n",
              "        ...,\n",
              "        [215, 215, 213],\n",
              "        [215, 215, 215],\n",
              "        [214, 214, 214]],\n",
              "\n",
              "       [[215, 211, 210],\n",
              "        [217, 213, 212],\n",
              "        [211, 207, 206],\n",
              "        ...,\n",
              "        [212, 212, 212],\n",
              "        [211, 211, 211],\n",
              "        [211, 211, 211]]], dtype=uint8)],\n",
              "       ['vNMdR339IJqcW_cXZpkrLw', 'OASX1Yrgq_7R1PsYpixRcw', '', 'food',\n",
              "        '/content/drive/MyDrive/Colab-Notebooks/yelp-image-classification/rand_pics/vNMdR339IJqcW_cXZpkrLw.jpg',\n",
              "        array([[[ 19,  30,  34],\n",
              "        [ 26,  37,  43],\n",
              "        [ 31,  41,  51],\n",
              "        ...,\n",
              "        [ 85,  56,  26],\n",
              "        [101,  67,  39],\n",
              "        [110,  74,  48]],\n",
              "\n",
              "       [[ 49,  58,  73],\n",
              "        [ 58,  66,  85],\n",
              "        [ 64,  72,  93],\n",
              "        ...,\n",
              "        [ 89,  55,  27],\n",
              "        [ 99,  64,  36],\n",
              "        [111,  74,  47]],\n",
              "\n",
              "       [[ 69,  76,  92],\n",
              "        [ 75,  82, 101],\n",
              "        [ 76,  82, 108],\n",
              "        ...,\n",
              "        [107,  68,  39],\n",
              "        [ 99,  57,  32],\n",
              "        [102,  57,  34]],\n",
              "\n",
              "       ...,\n",
              "\n",
              "       [[ 83,  64,  50],\n",
              "        [ 76,  56,  32],\n",
              "        [ 84,  63,  36],\n",
              "        ...,\n",
              "        [ 21,  38,  64],\n",
              "        [ 27,  47,  74],\n",
              "        [ 34,  54,  81]],\n",
              "\n",
              "       [[ 69,  50,  52],\n",
              "        [ 69,  52,  45],\n",
              "        [ 85,  67,  57],\n",
              "        ...,\n",
              "        [ 33,  48,  71],\n",
              "        [ 38,  53,  76],\n",
              "        [ 43,  58,  81]],\n",
              "\n",
              "       [[104, 101, 122],\n",
              "        [104,  98, 110],\n",
              "        [121, 111, 122],\n",
              "        ...,\n",
              "        [ 46,  51,  70],\n",
              "        [ 49,  54,  73],\n",
              "        [ 50,  57,  75]]], dtype=uint8)]], dtype=object)"
            ]
          },
          "metadata": {
            "tags": []
          },
          "execution_count": 55
        }
      ]
    },
    {
      "cell_type": "code",
      "metadata": {
        "id": "XxlL7JcnZAwj"
      },
      "source": [
        "df.dtypes"
      ],
      "execution_count": null,
      "outputs": []
    },
    {
      "cell_type": "code",
      "metadata": {
        "colab": {
          "base_uri": "https://localhost:8080/"
        },
        "id": "ekHcOGA0XlMS",
        "outputId": "0d47a7b8-1897-4e23-e67d-92a3bba92f7a"
      },
      "source": [
        "%debug"
      ],
      "execution_count": null,
      "outputs": [
        {
          "output_type": "stream",
          "text": [
            "> \u001b[0;32m<ipython-input-50-e3fdac544224>\u001b[0m(1)\u001b[0;36m<module>\u001b[0;34m()\u001b[0m\n",
            "\u001b[0;32m----> 1 \u001b[0;31m\u001b[0mX_train\u001b[0m \u001b[0;34m=\u001b[0m \u001b[0mnp\u001b[0m\u001b[0;34m.\u001b[0m\u001b[0masarray\u001b[0m\u001b[0;34m(\u001b[0m\u001b[0mX_train_\u001b[0m\u001b[0;34m[\u001b[0m\u001b[0;34m'image'\u001b[0m\u001b[0;34m]\u001b[0m\u001b[0;34m.\u001b[0m\u001b[0mtolist\u001b[0m\u001b[0;34m(\u001b[0m\u001b[0;34m)\u001b[0m\u001b[0;34m)\u001b[0m\u001b[0;34m\u001b[0m\u001b[0;34m\u001b[0m\u001b[0m\n",
            "\u001b[0m\u001b[0;32m      2 \u001b[0;31m\u001b[0mX_test\u001b[0m \u001b[0;34m=\u001b[0m \u001b[0mnp\u001b[0m\u001b[0;34m.\u001b[0m\u001b[0masarray\u001b[0m\u001b[0;34m(\u001b[0m\u001b[0mX_test_\u001b[0m\u001b[0;34m[\u001b[0m\u001b[0;34m'image'\u001b[0m\u001b[0;34m]\u001b[0m\u001b[0;34m.\u001b[0m\u001b[0mtolist\u001b[0m\u001b[0;34m(\u001b[0m\u001b[0;34m)\u001b[0m\u001b[0;34m)\u001b[0m\u001b[0;34m\u001b[0m\u001b[0;34m\u001b[0m\u001b[0m\n",
            "\u001b[0m\u001b[0;32m      3 \u001b[0;31m\u001b[0;34m\u001b[0m\u001b[0m\n",
            "\u001b[0m\u001b[0;32m      4 \u001b[0;31m\u001b[0mX_train_mean\u001b[0m \u001b[0;34m=\u001b[0m \u001b[0mnp\u001b[0m\u001b[0;34m.\u001b[0m\u001b[0mmean\u001b[0m\u001b[0;34m(\u001b[0m\u001b[0mX_train\u001b[0m\u001b[0;34m)\u001b[0m\u001b[0;34m\u001b[0m\u001b[0;34m\u001b[0m\u001b[0m\n",
            "\u001b[0m\u001b[0;32m      5 \u001b[0;31m\u001b[0mX_train_std\u001b[0m \u001b[0;34m=\u001b[0m \u001b[0mnp\u001b[0m\u001b[0;34m.\u001b[0m\u001b[0mstd\u001b[0m\u001b[0;34m(\u001b[0m\u001b[0mX_train\u001b[0m\u001b[0;34m)\u001b[0m\u001b[0;34m\u001b[0m\u001b[0;34m\u001b[0m\u001b[0m\n",
            "\u001b[0m\n",
            "ipdb> print(X_train['image\"])\n",
            "*** SyntaxError: EOL while scanning string literal\n",
            "ipdb> print(X_train['image'])\n",
            "*** NameError: name 'X_train' is not defined\n",
            "ipdb> print(X_train_['image'])\n",
            "*** IndexError: only integers, slices (`:`), ellipsis (`...`), numpy.newaxis (`None`) and integer or boolean arrays are valid indices\n",
            "ipdb> print(X_train['image'].values.tolist())\n",
            "*** NameError: name 'X_train' is not defined\n",
            "ipdb> print(X_train_['image'].values.tolist())\n",
            "*** IndexError: only integers, slices (`:`), ellipsis (`...`), numpy.newaxis (`None`) and integer or boolean arrays are valid indices\n",
            "--KeyboardInterrupt--\n",
            "--KeyboardInterrupt--\n",
            "ipdb> stop\n",
            "*** NameError: name 'stop' is not defined\n",
            "--KeyboardInterrupt--\n"
          ],
          "name": "stdout"
        }
      ]
    },
    {
      "cell_type": "markdown",
      "metadata": {
        "id": "m9E6BkA_SC-P"
      },
      "source": [
        "Reshaping the data"
      ]
    },
    {
      "cell_type": "code",
      "metadata": {
        "id": "7VDK8cgASGBX"
      },
      "source": [
        "X_train = X_train.reshape(X_train.shape[0], *(75,75,3))\n",
        "X_test = X_test.reshape(X_test.shape[0], *(75,75,3))"
      ],
      "execution_count": 56,
      "outputs": []
    },
    {
      "cell_type": "code",
      "metadata": {
        "id": "u4yKnemq3mbb",
        "colab": {
          "base_uri": "https://localhost:8080/"
        },
        "outputId": "d317d8f0-f2a9-493d-b9df-4a2b0fd10fb0"
      },
      "source": [
        "print(\"Shape of train images is: \", X_train.shape)\n",
        "print(\"Shape of test images is: \", X_test.shape)\n",
        "print(\"Shape of lables is: \", y_train.shape)\n",
        "print(\"Shape of labels is: \", y_test.shape)"
      ],
      "execution_count": 62,
      "outputs": [
        {
          "output_type": "stream",
          "text": [
            "Shape of train images is:  (800, 75, 75, 3)\n",
            "Shape of test images is:  (200, 75, 75, 3)\n",
            "Shape of lables is:  (800,)\n",
            "Shape of labels is:  (200,)\n"
          ],
          "name": "stdout"
        }
      ]
    },
    {
      "cell_type": "code",
      "metadata": {
        "id": "gUkLR2tbTENQ"
      },
      "source": [
        "X_train = X_train.astype('float32')\n",
        "X_test = X_test.astype('float32')"
      ],
      "execution_count": null,
      "outputs": []
    },
    {
      "cell_type": "code",
      "metadata": {
        "id": "ALt3_l22sFII"
      },
      "source": [
        "import tensorflow as tf\n",
        "from tensorflow.keras import layers\n",
        "from keras.layers import Input, Dense, Dropout, Activation, Conv2D, MaxPooling2D, Flatten, MaxPool2D\n",
        "from keras.models import Model, Sequential\n",
        "from keras.optimizers import Adam, RMSprop\n",
        "#from tensorflow.python.keras.preprocessing import image\n",
        "#from tensorflow.python.keras.preprocessing.image import ImageDataGenerator\n",
        "#from tensorflow.python import keras "
      ],
      "execution_count": 57,
      "outputs": []
    },
    {
      "cell_type": "markdown",
      "metadata": {
        "id": "JhLUjEJK_DHv"
      },
      "source": [
        "Train, Test, Split the Data"
      ]
    },
    {
      "cell_type": "markdown",
      "metadata": {
        "id": "LK6_xL38Q8E4"
      },
      "source": [
        "Building CNN to classify images"
      ]
    },
    {
      "cell_type": "markdown",
      "metadata": {
        "id": "rkbPOsJZoT59"
      },
      "source": [
        "1.) Build Model"
      ]
    },
    {
      "cell_type": "code",
      "metadata": {
        "id": "lltLgomHtLQ8"
      },
      "source": [
        "# initializing a sequential model\n",
        "model = Sequential()\n",
        "#convolution layer \n",
        "model.add(Conv2D(32,(3,3),activation = 'relu', input_shape = (75,75,3)))\n",
        "#pooling layer\n",
        "model.add(MaxPooling2D(2,2))\n",
        "#2nd convolutional layer \n",
        "model.add(Conv2D(32,(3,3), activation = 'relu'))\n",
        "#2nd pooling layer\n",
        "model.add(MaxPooling2D(pool_size=(2,2)))\n",
        "model.add(Dropout(0.25))\n",
        "model.add(Flatten())\n",
        "model.add(Dense(128, activation='relu'))\n",
        "model.add(Dropout(0.5))\n",
        "model.add(Dense(10, activation = 'softmax'))\n",
        "\n",
        "# #first layer \n",
        "# model.add(Dense(32, activation = 'relu'))\n",
        "# #second layer \n",
        "# model.add(Dense(32, activation = 'relu'))\n",
        "# ##third layer\n",
        "# model.add(Dense(32, activation = 'relu'))\n",
        "# #output layer\n",
        "# model.add(Dense(5, activation = 'softmax'))"
      ],
      "execution_count": 58,
      "outputs": []
    },
    {
      "cell_type": "code",
      "metadata": {
        "id": "9zJGuxEPLvcJ",
        "colab": {
          "base_uri": "https://localhost:8080/"
        },
        "outputId": "b22c2963-c44d-44fb-9068-849298976a43"
      },
      "source": [
        "model.summary()"
      ],
      "execution_count": 59,
      "outputs": [
        {
          "output_type": "stream",
          "text": [
            "Model: \"sequential\"\n",
            "_________________________________________________________________\n",
            "Layer (type)                 Output Shape              Param #   \n",
            "=================================================================\n",
            "conv2d (Conv2D)              (None, 73, 73, 32)        896       \n",
            "_________________________________________________________________\n",
            "max_pooling2d (MaxPooling2D) (None, 36, 36, 32)        0         \n",
            "_________________________________________________________________\n",
            "conv2d_1 (Conv2D)            (None, 34, 34, 32)        9248      \n",
            "_________________________________________________________________\n",
            "max_pooling2d_1 (MaxPooling2 (None, 17, 17, 32)        0         \n",
            "_________________________________________________________________\n",
            "dropout (Dropout)            (None, 17, 17, 32)        0         \n",
            "_________________________________________________________________\n",
            "flatten (Flatten)            (None, 9248)              0         \n",
            "_________________________________________________________________\n",
            "dense (Dense)                (None, 128)               1183872   \n",
            "_________________________________________________________________\n",
            "dropout_1 (Dropout)          (None, 128)               0         \n",
            "_________________________________________________________________\n",
            "dense_1 (Dense)              (None, 10)                1290      \n",
            "=================================================================\n",
            "Total params: 1,195,306\n",
            "Trainable params: 1,195,306\n",
            "Non-trainable params: 0\n",
            "_________________________________________________________________\n"
          ],
          "name": "stdout"
        }
      ]
    },
    {
      "cell_type": "code",
      "metadata": {
        "id": "Wbxw3UgZS8Qa"
      },
      "source": [
        "#compile the model \n",
        "model.compile(optimizer = tf.optimizers.Adam(learning_rate=0.00001), loss = 'sparse_categorical_crossentropy', metrics=['accuracy'])"
      ],
      "execution_count": 63,
      "outputs": []
    },
    {
      "cell_type": "code",
      "metadata": {
        "id": "Mc1c0TAUTD_2",
        "colab": {
          "base_uri": "https://localhost:8080/"
        },
        "outputId": "b1d5a884-4bed-45d3-c525-56109318c9e5"
      },
      "source": [
        "#fitting the model \n",
        "history = model.fit(X_train, y_train, validation_split=0.20, epochs = 40)"
      ],
      "execution_count": 64,
      "outputs": [
        {
          "output_type": "stream",
          "text": [
            "Epoch 1/40\n",
            "20/20 [==============================] - 4s 185ms/step - loss: 2.4132 - accuracy: 0.1492 - val_loss: 1.5750 - val_accuracy: 0.5813\n",
            "Epoch 2/40\n",
            "20/20 [==============================] - 4s 177ms/step - loss: 1.7417 - accuracy: 0.4439 - val_loss: 1.1891 - val_accuracy: 0.5813\n",
            "Epoch 3/40\n",
            "20/20 [==============================] - 4s 177ms/step - loss: 1.3784 - accuracy: 0.5659 - val_loss: 1.0515 - val_accuracy: 0.6375\n",
            "Epoch 4/40\n",
            "20/20 [==============================] - 4s 178ms/step - loss: 1.2702 - accuracy: 0.5844 - val_loss: 0.9941 - val_accuracy: 0.6750\n",
            "Epoch 5/40\n",
            "20/20 [==============================] - 4s 178ms/step - loss: 1.2678 - accuracy: 0.5660 - val_loss: 0.9661 - val_accuracy: 0.6687\n",
            "Epoch 6/40\n",
            "20/20 [==============================] - 4s 178ms/step - loss: 1.1621 - accuracy: 0.6129 - val_loss: 0.9443 - val_accuracy: 0.6687\n",
            "Epoch 7/40\n",
            "20/20 [==============================] - 4s 179ms/step - loss: 1.2392 - accuracy: 0.5939 - val_loss: 0.9310 - val_accuracy: 0.6750\n",
            "Epoch 8/40\n",
            "20/20 [==============================] - 4s 178ms/step - loss: 1.1237 - accuracy: 0.6188 - val_loss: 0.9168 - val_accuracy: 0.6938\n",
            "Epoch 9/40\n",
            "20/20 [==============================] - 4s 179ms/step - loss: 1.0647 - accuracy: 0.6268 - val_loss: 0.9087 - val_accuracy: 0.7000\n",
            "Epoch 10/40\n",
            "20/20 [==============================] - 4s 178ms/step - loss: 1.0929 - accuracy: 0.6328 - val_loss: 0.8992 - val_accuracy: 0.7000\n",
            "Epoch 11/40\n",
            "20/20 [==============================] - 4s 178ms/step - loss: 1.0533 - accuracy: 0.6314 - val_loss: 0.8963 - val_accuracy: 0.7000\n",
            "Epoch 12/40\n",
            "20/20 [==============================] - 4s 179ms/step - loss: 1.0405 - accuracy: 0.6377 - val_loss: 0.8876 - val_accuracy: 0.7063\n",
            "Epoch 13/40\n",
            "20/20 [==============================] - 4s 176ms/step - loss: 0.9181 - accuracy: 0.7006 - val_loss: 0.8810 - val_accuracy: 0.6938\n",
            "Epoch 14/40\n",
            "20/20 [==============================] - 4s 178ms/step - loss: 0.9267 - accuracy: 0.6701 - val_loss: 0.8796 - val_accuracy: 0.7125\n",
            "Epoch 15/40\n",
            "20/20 [==============================] - 4s 178ms/step - loss: 1.0385 - accuracy: 0.6537 - val_loss: 0.8778 - val_accuracy: 0.7125\n",
            "Epoch 16/40\n",
            "20/20 [==============================] - 4s 178ms/step - loss: 0.9450 - accuracy: 0.6984 - val_loss: 0.8738 - val_accuracy: 0.7063\n",
            "Epoch 17/40\n",
            "20/20 [==============================] - 4s 179ms/step - loss: 0.9448 - accuracy: 0.6799 - val_loss: 0.8663 - val_accuracy: 0.7063\n",
            "Epoch 18/40\n",
            "20/20 [==============================] - 4s 178ms/step - loss: 0.9575 - accuracy: 0.6778 - val_loss: 0.8640 - val_accuracy: 0.7125\n",
            "Epoch 19/40\n",
            "20/20 [==============================] - 3s 176ms/step - loss: 0.9408 - accuracy: 0.7001 - val_loss: 0.8628 - val_accuracy: 0.7125\n",
            "Epoch 20/40\n",
            "20/20 [==============================] - 4s 179ms/step - loss: 0.8918 - accuracy: 0.6975 - val_loss: 0.8566 - val_accuracy: 0.7188\n",
            "Epoch 21/40\n",
            "20/20 [==============================] - 4s 179ms/step - loss: 0.9258 - accuracy: 0.7013 - val_loss: 0.8585 - val_accuracy: 0.7188\n",
            "Epoch 22/40\n",
            "20/20 [==============================] - 4s 178ms/step - loss: 0.9080 - accuracy: 0.6843 - val_loss: 0.8534 - val_accuracy: 0.7125\n",
            "Epoch 23/40\n",
            "20/20 [==============================] - 4s 178ms/step - loss: 0.8080 - accuracy: 0.7299 - val_loss: 0.8491 - val_accuracy: 0.7250\n",
            "Epoch 24/40\n",
            "20/20 [==============================] - 4s 178ms/step - loss: 0.9169 - accuracy: 0.7069 - val_loss: 0.8441 - val_accuracy: 0.7250\n",
            "Epoch 25/40\n",
            "20/20 [==============================] - 4s 180ms/step - loss: 0.9347 - accuracy: 0.6828 - val_loss: 0.8429 - val_accuracy: 0.7250\n",
            "Epoch 26/40\n",
            "20/20 [==============================] - 4s 177ms/step - loss: 0.9202 - accuracy: 0.6933 - val_loss: 0.8446 - val_accuracy: 0.7250\n",
            "Epoch 27/40\n",
            "20/20 [==============================] - 4s 177ms/step - loss: 0.8375 - accuracy: 0.7138 - val_loss: 0.8408 - val_accuracy: 0.7250\n",
            "Epoch 28/40\n",
            "20/20 [==============================] - 4s 178ms/step - loss: 0.8819 - accuracy: 0.7073 - val_loss: 0.8386 - val_accuracy: 0.7188\n",
            "Epoch 29/40\n",
            "20/20 [==============================] - 4s 178ms/step - loss: 0.8364 - accuracy: 0.7380 - val_loss: 0.8350 - val_accuracy: 0.7188\n",
            "Epoch 30/40\n",
            "20/20 [==============================] - 4s 177ms/step - loss: 0.7915 - accuracy: 0.7351 - val_loss: 0.8326 - val_accuracy: 0.7188\n",
            "Epoch 31/40\n",
            "20/20 [==============================] - 4s 178ms/step - loss: 0.7922 - accuracy: 0.7375 - val_loss: 0.8331 - val_accuracy: 0.7250\n",
            "Epoch 32/40\n",
            "20/20 [==============================] - 4s 176ms/step - loss: 0.8819 - accuracy: 0.6927 - val_loss: 0.8300 - val_accuracy: 0.7375\n",
            "Epoch 33/40\n",
            "20/20 [==============================] - 4s 179ms/step - loss: 0.8364 - accuracy: 0.7335 - val_loss: 0.8235 - val_accuracy: 0.7188\n",
            "Epoch 34/40\n",
            "20/20 [==============================] - 4s 177ms/step - loss: 0.8117 - accuracy: 0.7150 - val_loss: 0.8232 - val_accuracy: 0.7188\n",
            "Epoch 35/40\n",
            "20/20 [==============================] - 4s 177ms/step - loss: 0.7839 - accuracy: 0.7357 - val_loss: 0.8237 - val_accuracy: 0.7250\n",
            "Epoch 36/40\n",
            "20/20 [==============================] - 4s 177ms/step - loss: 0.8348 - accuracy: 0.7278 - val_loss: 0.8251 - val_accuracy: 0.7250\n",
            "Epoch 37/40\n",
            "20/20 [==============================] - 4s 179ms/step - loss: 0.8329 - accuracy: 0.7299 - val_loss: 0.8207 - val_accuracy: 0.7312\n",
            "Epoch 38/40\n",
            "20/20 [==============================] - 4s 179ms/step - loss: 0.8137 - accuracy: 0.7373 - val_loss: 0.8152 - val_accuracy: 0.7312\n",
            "Epoch 39/40\n",
            "20/20 [==============================] - 4s 179ms/step - loss: 0.7669 - accuracy: 0.7446 - val_loss: 0.8161 - val_accuracy: 0.7312\n",
            "Epoch 40/40\n",
            "20/20 [==============================] - 4s 179ms/step - loss: 0.7570 - accuracy: 0.7454 - val_loss: 0.8136 - val_accuracy: 0.7375\n"
          ],
          "name": "stdout"
        }
      ]
    },
    {
      "cell_type": "code",
      "metadata": {
        "id": "0EBdXi-iElEH"
      },
      "source": [
        "from sklearn.model_selection import GridSearchCV"
      ],
      "execution_count": 65,
      "outputs": []
    },
    {
      "cell_type": "code",
      "metadata": {
        "id": "CeO1RgGJovqE"
      },
      "source": [
        "def run_model(optimizer='adam'):\n",
        "  # initializing a sequential model\n",
        "  model = Sequential()\n",
        "  #convolution layer \n",
        "  model.add(Conv2D(32,(3,3),activation = 'relu', input_shape = (75,75,3)))\n",
        "  #pooling layer  \n",
        "  model.add(MaxPooling2D(2,2))\n",
        "  #2nd convolutional layer \n",
        "  model.add(Conv2D(32,(3,3), activation = 'relu'))\n",
        "  #2nd pooling layer\n",
        "  model.add(MaxPooling2D(pool_size=(2,2)))\n",
        "  model.add(Dropout(0.25))\n",
        "  model.add(Flatten())\n",
        "  model.add(Dense(128, activation='relu'))\n",
        "  model.add(Dropout(0.5))\n",
        "  model.add(Dense(10, activation = 'softmax'))\n",
        "  model.compile(optimizer = tf.optimizers.Adam(learning_rate=0.00001), loss = 'sparse_categorical_crossentropy', metrics=['accuracy'])\n",
        "  return model "
      ],
      "execution_count": 79,
      "outputs": []
    },
    {
      "cell_type": "code",
      "metadata": {
        "id": "Tq8SkIIFJu0r"
      },
      "source": [
        "from keras.wrappers.scikit_learn import KerasClassifier\n",
        "model = KerasClassifier(build_fn= run_model, verbose=0)"
      ],
      "execution_count": 80,
      "outputs": []
    },
    {
      "cell_type": "markdown",
      "metadata": {
        "id": "Ej6Wr9Gw0qna"
      },
      "source": [
        "GridSearchCV"
      ]
    },
    {
      "cell_type": "code",
      "metadata": {
        "id": "G8KOlrKM0p7J"
      },
      "source": [
        "batch_size = [50,100,150]\n",
        "epochs = [5, 10,15,20]\n",
        "optimizer = ['adam', 'SGD']\n",
        "learn_rate = [0.0001, 0.001, 0.01]\n",
        "param_grid = dict(batch_size = batch_size, epochs = epochs, optimizer = optimizer)\n",
        "grid = GridSearchCV(estimator=model, param_grid=param_grid, n_jobs = -1, cv=3)"
      ],
      "execution_count": 81,
      "outputs": []
    },
    {
      "cell_type": "code",
      "metadata": {
        "id": "JTAl354313nw",
        "colab": {
          "base_uri": "https://localhost:8080/"
        },
        "outputId": "429e570f-a419-4187-fcaa-7e19cfb3872a"
      },
      "source": [
        "result = grid.fit(X, y)"
      ],
      "execution_count": 82,
      "outputs": [
        {
          "output_type": "stream",
          "text": [
            "/usr/local/lib/python3.7/dist-packages/joblib/externals/loky/process_executor.py:691: UserWarning: A worker stopped while some jobs were given to the executor. This can be caused by a too short worker timeout or by a memory leak.\n",
            "  \"timeout or by a memory leak.\", UserWarning\n"
          ],
          "name": "stderr"
        }
      ]
    },
    {
      "cell_type": "code",
      "metadata": {
        "colab": {
          "base_uri": "https://localhost:8080/"
        },
        "id": "OFKiceX-7RlZ",
        "outputId": "3411ad23-4b1f-4332-c5b5-70022c456cbc"
      },
      "source": [
        "print(\"Best: %f using %s\" % (result.best_score_, result.best_params_))\n",
        "means = result.cv_results_['mean_test_score']\n",
        "stds = result.cv_results_['std_test_score']\n",
        "params = result.cv_results_['params']\n",
        "\n",
        "for mean, stdev, param in zip(means, stds, params):\n",
        "  print(\"%f (%f) with: %r\" % (mean,stdev, param))"
      ],
      "execution_count": 84,
      "outputs": [
        {
          "output_type": "stream",
          "text": [
            "Best: 0.604988 using {'batch_size': 150, 'epochs': 20, 'optimizer': 'SGD'}\n",
            "0.548000 (0.011034) with: {'batch_size': 50, 'epochs': 5, 'optimizer': 'adam'}\n",
            "0.561010 (0.019731) with: {'batch_size': 50, 'epochs': 5, 'optimizer': 'SGD'}\n",
            "0.579987 (0.019413) with: {'batch_size': 50, 'epochs': 10, 'optimizer': 'adam'}\n",
            "0.543088 (0.063195) with: {'batch_size': 50, 'epochs': 10, 'optimizer': 'SGD'}\n",
            "0.524959 (0.034951) with: {'batch_size': 50, 'epochs': 15, 'optimizer': 'adam'}\n",
            "0.598029 (0.020624) with: {'batch_size': 50, 'epochs': 15, 'optimizer': 'SGD'}\n",
            "0.520961 (0.028486) with: {'batch_size': 50, 'epochs': 20, 'optimizer': 'adam'}\n",
            "0.568979 (0.022622) with: {'batch_size': 50, 'epochs': 20, 'optimizer': 'SGD'}\n",
            "0.561004 (0.004691) with: {'batch_size': 100, 'epochs': 5, 'optimizer': 'adam'}\n",
            "0.549996 (0.004595) with: {'batch_size': 100, 'epochs': 5, 'optimizer': 'SGD'}\n",
            "0.579016 (0.011992) with: {'batch_size': 100, 'epochs': 10, 'optimizer': 'adam'}\n",
            "0.584015 (0.012997) with: {'batch_size': 100, 'epochs': 10, 'optimizer': 'SGD'}\n",
            "0.592008 (0.005910) with: {'batch_size': 100, 'epochs': 15, 'optimizer': 'adam'}\n",
            "0.583005 (0.012791) with: {'batch_size': 100, 'epochs': 15, 'optimizer': 'SGD'}\n",
            "0.578003 (0.010058) with: {'batch_size': 100, 'epochs': 20, 'optimizer': 'adam'}\n",
            "0.596974 (0.018271) with: {'batch_size': 100, 'epochs': 20, 'optimizer': 'SGD'}\n",
            "0.557003 (0.014875) with: {'batch_size': 150, 'epochs': 5, 'optimizer': 'adam'}\n",
            "0.560006 (0.018891) with: {'batch_size': 150, 'epochs': 5, 'optimizer': 'SGD'}\n",
            "0.557018 (0.022403) with: {'batch_size': 150, 'epochs': 10, 'optimizer': 'adam'}\n",
            "0.554000 (0.011034) with: {'batch_size': 150, 'epochs': 10, 'optimizer': 'SGD'}\n",
            "0.565014 (0.016778) with: {'batch_size': 150, 'epochs': 15, 'optimizer': 'adam'}\n",
            "0.573996 (0.018590) with: {'batch_size': 150, 'epochs': 15, 'optimizer': 'SGD'}\n",
            "0.593986 (0.025254) with: {'batch_size': 150, 'epochs': 20, 'optimizer': 'adam'}\n",
            "0.604988 (0.015850) with: {'batch_size': 150, 'epochs': 20, 'optimizer': 'SGD'}\n"
          ],
          "name": "stdout"
        }
      ]
    },
    {
      "cell_type": "code",
      "metadata": {
        "id": "ej5YC7_WTB6Q"
      },
      "source": [
        "history = model.fit(X,y, batch_size=32, epochs = 40, validation_split=0.1)"
      ],
      "execution_count": null,
      "outputs": []
    },
    {
      "cell_type": "code",
      "metadata": {
        "id": "wUggpuUkQ3w5"
      },
      "source": [
        "def create_model():\n",
        "  model = tf.keras.Sequential([tf.keras.layers.Conv2D(32, (3,3), activation = 'relu', input_shape= (100,100,3)),\n",
        "                               tf.keras.layers.MaxPooling2D(2,2),\n",
        "                               tf.keras.layers.Conv2D(32, (3,3), activation = 'relu'),\n",
        "                               tf.keras.layers.MaxPooling2D(2,2),\n",
        "                               tf.keras.layers.Dropout(0.25),\n",
        "                               tf.keras.layers.Flatten(),\n",
        "                               tf.keras.layers.Dense(128,activation='relu'),\n",
        "                               tf.keras.layers.Dropout(0.5),\n",
        "                               tf.keras.layers.Dense(10,activation = tf.nn.softmax)\n",
        "  ])\n",
        "  model.compile(tf.optimizers.Adam(learning_rate=0.001), loss='categorical_crossentropy', metrics =['accuracy'])\n",
        "  return model"
      ],
      "execution_count": null,
      "outputs": []
    },
    {
      "cell_type": "code",
      "metadata": {
        "id": "OU-KcuRifrZm"
      },
      "source": [
        "model_adam = tf.keras.Sequential([\n",
        "                                  tf.keras.layers.Conv2D(32, (3,3), activation = 'relu', input_shape= (75,75,3)),\n",
        "                                  tf.keras.layers.MaxPooling2D(2,2),\n",
        "                                  tf.keras.layers.Conv2D(32, (3,3), activation = 'relu'),\n",
        "                                  tf.keras.layers.MaxPooling2D(2,2),\n",
        "                                  tf.keras.layers.Dropout(0.25),\n",
        "                                  tf.keras.layers.Flatten(),\n",
        "                                  tf.keras.layers.Dense(128,activation='relu'),\n",
        "                                  tf.keras.layers.Dropout(0.5),\n",
        "                                  tf.keras.layers.Dense(10,activation = tf.nn.softmax)\n",
        "])"
      ],
      "execution_count": null,
      "outputs": []
    },
    {
      "cell_type": "code",
      "metadata": {
        "id": "yfx5-lxVZcJS"
      },
      "source": [
        "model_adam.summary()"
      ],
      "execution_count": null,
      "outputs": []
    },
    {
      "cell_type": "markdown",
      "metadata": {
        "id": "TWDiegINPUBg"
      },
      "source": [
        "Miscellaneous Code (ignore...)"
      ]
    },
    {
      "cell_type": "code",
      "metadata": {
        "colab": {
          "base_uri": "https://localhost:8080/",
          "height": 215
        },
        "id": "p8bnNCot7ylu",
        "outputId": "c87d3e35-4cbd-441a-9f11-d18709eef2eb"
      },
      "source": [
        "ImageDataGenerator.flow_from_directory( \n",
        "    directory = img_dir_train,\n",
        "    target_size = (256,256),\n",
        "    color_mode='grayscale',\n",
        "    classes = classes, \n",
        "    class_mode=None,\n",
        "    shuffle=True, \n",
        "    seed=123\n",
        ")"
      ],
      "execution_count": null,
      "outputs": [
        {
          "output_type": "error",
          "ename": "TypeError",
          "evalue": "ignored",
          "traceback": [
            "\u001b[0;31m---------------------------------------------------------------------------\u001b[0m",
            "\u001b[0;31mTypeError\u001b[0m                                 Traceback (most recent call last)",
            "\u001b[0;32m<ipython-input-52-8011679a7f08>\u001b[0m in \u001b[0;36m<module>\u001b[0;34m()\u001b[0m\n\u001b[1;32m      6\u001b[0m     \u001b[0mclass_mode\u001b[0m\u001b[0;34m=\u001b[0m\u001b[0;32mNone\u001b[0m\u001b[0;34m,\u001b[0m\u001b[0;34m\u001b[0m\u001b[0;34m\u001b[0m\u001b[0m\n\u001b[1;32m      7\u001b[0m     \u001b[0mshuffle\u001b[0m\u001b[0;34m=\u001b[0m\u001b[0;32mTrue\u001b[0m\u001b[0;34m,\u001b[0m\u001b[0;34m\u001b[0m\u001b[0;34m\u001b[0m\u001b[0m\n\u001b[0;32m----> 8\u001b[0;31m     \u001b[0mseed\u001b[0m\u001b[0;34m=\u001b[0m\u001b[0;36m123\u001b[0m\u001b[0;34m\u001b[0m\u001b[0;34m\u001b[0m\u001b[0m\n\u001b[0m\u001b[1;32m      9\u001b[0m )\n",
            "\u001b[0;31mTypeError\u001b[0m: flow_from_directory() missing 1 required positional argument: 'self'"
          ]
        }
      ]
    },
    {
      "cell_type": "code",
      "metadata": {
        "id": "POsQPmP6b3H1"
      },
      "source": [
        "#train = df.iloc[0:800, :]\n",
        "#est = df.iloc[800:1000, :]\n",
        "# np.random.randint() ## random integere number generator"
      ],
      "execution_count": null,
      "outputs": []
    },
    {
      "cell_type": "code",
      "metadata": {
        "id": "uJZfmkxMcrkz"
      },
      "source": [
        "#print(\"Train dataset shape: \" , train.shape)\n",
        "#print(\"Test dataset shape: \", test.shape)"
      ],
      "execution_count": null,
      "outputs": []
    },
    {
      "cell_type": "code",
      "metadata": {
        "id": "0gcVyD5cN8va"
      },
      "source": [
        "model = Sequential()\n",
        "model.add(Dense(256, input_dim=28*28, activation ='relu'))\n",
        "model.add(Dense(256, activation='relu'))\n",
        "model.add(Dense(128, activation='relu'))\n",
        "model.add(Dense(32, activation= 'relu'))\n",
        "model.add(Dense(10, activation='softmax'))\n",
        "\n",
        "model.compile(loss='categorical_crossentropy',\n",
        "             optimizer = 'adam', \n",
        "             metrics = ['accuracy'])\n",
        "\n",
        "model.summary()"
      ],
      "execution_count": null,
      "outputs": []
    },
    {
      "cell_type": "code",
      "metadata": {
        "id": "fBlnbzdE63V0"
      },
      "source": [
        "batch_size = 32\n",
        "img_height = 256\n",
        "img_width =256"
      ],
      "execution_count": null,
      "outputs": []
    },
    {
      "cell_type": "code",
      "metadata": {
        "colab": {
          "base_uri": "https://localhost:8080/",
          "height": 460
        },
        "id": "O3t-UpKqd2vX",
        "outputId": "0c0d6717-23bb-4e01-da5e-9e4a45462629"
      },
      "source": [
        "train_ds = tf.keras.preprocessing.image_dataset_from_directory(\n",
        "  img_dir_train,\n",
        "  validation_split=0.2,\n",
        "  subset=\"training\",\n",
        "  seed=123,\n",
        "  image_size=(img_height, img_width),\n",
        "  batch_size=batch_size)"
      ],
      "execution_count": null,
      "outputs": [
        {
          "output_type": "stream",
          "text": [
            "Found 0 files belonging to 0 classes.\n",
            "Using 0 files for training.\n"
          ],
          "name": "stdout"
        },
        {
          "output_type": "error",
          "ename": "TypeError",
          "evalue": "ignored",
          "traceback": [
            "\u001b[0;31m---------------------------------------------------------------------------\u001b[0m",
            "\u001b[0;31mValueError\u001b[0m                                Traceback (most recent call last)",
            "\u001b[0;32m/usr/local/lib/python3.7/dist-packages/tensorflow/python/framework/op_def_library.py\u001b[0m in \u001b[0;36m_apply_op_helper\u001b[0;34m(op_type_name, name, **keywords)\u001b[0m\n\u001b[1;32m    521\u001b[0m                 \u001b[0mas_ref\u001b[0m\u001b[0;34m=\u001b[0m\u001b[0minput_arg\u001b[0m\u001b[0;34m.\u001b[0m\u001b[0mis_ref\u001b[0m\u001b[0;34m,\u001b[0m\u001b[0;34m\u001b[0m\u001b[0;34m\u001b[0m\u001b[0m\n\u001b[0;32m--> 522\u001b[0;31m                 preferred_dtype=default_dtype)\n\u001b[0m\u001b[1;32m    523\u001b[0m         \u001b[0;32mexcept\u001b[0m \u001b[0mTypeError\u001b[0m \u001b[0;32mas\u001b[0m \u001b[0merr\u001b[0m\u001b[0;34m:\u001b[0m\u001b[0;34m\u001b[0m\u001b[0;34m\u001b[0m\u001b[0m\n",
            "\u001b[0;32m/usr/local/lib/python3.7/dist-packages/tensorflow/python/profiler/trace.py\u001b[0m in \u001b[0;36mwrapped\u001b[0;34m(*args, **kwargs)\u001b[0m\n\u001b[1;32m    162\u001b[0m           \u001b[0;32mreturn\u001b[0m \u001b[0mfunc\u001b[0m\u001b[0;34m(\u001b[0m\u001b[0;34m*\u001b[0m\u001b[0margs\u001b[0m\u001b[0;34m,\u001b[0m \u001b[0;34m**\u001b[0m\u001b[0mkwargs\u001b[0m\u001b[0;34m)\u001b[0m\u001b[0;34m\u001b[0m\u001b[0;34m\u001b[0m\u001b[0m\n\u001b[0;32m--> 163\u001b[0;31m       \u001b[0;32mreturn\u001b[0m \u001b[0mfunc\u001b[0m\u001b[0;34m(\u001b[0m\u001b[0;34m*\u001b[0m\u001b[0margs\u001b[0m\u001b[0;34m,\u001b[0m \u001b[0;34m**\u001b[0m\u001b[0mkwargs\u001b[0m\u001b[0;34m)\u001b[0m\u001b[0;34m\u001b[0m\u001b[0;34m\u001b[0m\u001b[0m\n\u001b[0m\u001b[1;32m    164\u001b[0m \u001b[0;34m\u001b[0m\u001b[0m\n",
            "\u001b[0;32m/usr/local/lib/python3.7/dist-packages/tensorflow/python/framework/ops.py\u001b[0m in \u001b[0;36mconvert_to_tensor\u001b[0;34m(value, dtype, name, as_ref, preferred_dtype, dtype_hint, ctx, accepted_result_types)\u001b[0m\n\u001b[1;32m   1508\u001b[0m           \u001b[0;34m\"Tensor conversion requested dtype %s for Tensor with dtype %s: %r\"\u001b[0m \u001b[0;34m%\u001b[0m\u001b[0;34m\u001b[0m\u001b[0;34m\u001b[0m\u001b[0m\n\u001b[0;32m-> 1509\u001b[0;31m           (dtype.name, value.dtype.name, value))\n\u001b[0m\u001b[1;32m   1510\u001b[0m     \u001b[0;32mreturn\u001b[0m \u001b[0mvalue\u001b[0m\u001b[0;34m\u001b[0m\u001b[0;34m\u001b[0m\u001b[0m\n",
            "\u001b[0;31mValueError\u001b[0m: Tensor conversion requested dtype string for Tensor with dtype float32: <tf.Tensor 'args_0:0' shape=() dtype=float32>",
            "\nDuring handling of the above exception, another exception occurred:\n",
            "\u001b[0;31mTypeError\u001b[0m                                 Traceback (most recent call last)",
            "\u001b[0;32m<ipython-input-60-7b2baef554ec>\u001b[0m in \u001b[0;36m<module>\u001b[0;34m()\u001b[0m\n\u001b[1;32m      5\u001b[0m   \u001b[0mseed\u001b[0m\u001b[0;34m=\u001b[0m\u001b[0;36m123\u001b[0m\u001b[0;34m,\u001b[0m\u001b[0;34m\u001b[0m\u001b[0;34m\u001b[0m\u001b[0m\n\u001b[1;32m      6\u001b[0m   \u001b[0mimage_size\u001b[0m\u001b[0;34m=\u001b[0m\u001b[0;34m(\u001b[0m\u001b[0mimg_height\u001b[0m\u001b[0;34m,\u001b[0m \u001b[0mimg_width\u001b[0m\u001b[0;34m)\u001b[0m\u001b[0;34m,\u001b[0m\u001b[0;34m\u001b[0m\u001b[0;34m\u001b[0m\u001b[0m\n\u001b[0;32m----> 7\u001b[0;31m   batch_size=batch_size)\n\u001b[0m",
            "\u001b[0;32m/usr/local/lib/python3.7/dist-packages/tensorflow/python/keras/preprocessing/image_dataset.py\u001b[0m in \u001b[0;36mimage_dataset_from_directory\u001b[0;34m(directory, labels, label_mode, class_names, color_mode, batch_size, image_size, shuffle, seed, validation_split, subset, interpolation, follow_links)\u001b[0m\n\u001b[1;32m    197\u001b[0m       \u001b[0mlabel_mode\u001b[0m\u001b[0;34m=\u001b[0m\u001b[0mlabel_mode\u001b[0m\u001b[0;34m,\u001b[0m\u001b[0;34m\u001b[0m\u001b[0;34m\u001b[0m\u001b[0m\n\u001b[1;32m    198\u001b[0m       \u001b[0mnum_classes\u001b[0m\u001b[0;34m=\u001b[0m\u001b[0mlen\u001b[0m\u001b[0;34m(\u001b[0m\u001b[0mclass_names\u001b[0m\u001b[0;34m)\u001b[0m\u001b[0;34m,\u001b[0m\u001b[0;34m\u001b[0m\u001b[0;34m\u001b[0m\u001b[0m\n\u001b[0;32m--> 199\u001b[0;31m       interpolation=interpolation)\n\u001b[0m\u001b[1;32m    200\u001b[0m   \u001b[0;32mif\u001b[0m \u001b[0mshuffle\u001b[0m\u001b[0;34m:\u001b[0m\u001b[0;34m\u001b[0m\u001b[0;34m\u001b[0m\u001b[0m\n\u001b[1;32m    201\u001b[0m     \u001b[0;31m# Shuffle locally at each iteration\u001b[0m\u001b[0;34m\u001b[0m\u001b[0;34m\u001b[0m\u001b[0;34m\u001b[0m\u001b[0m\n",
            "\u001b[0;32m/usr/local/lib/python3.7/dist-packages/tensorflow/python/keras/preprocessing/image_dataset.py\u001b[0m in \u001b[0;36mpaths_and_labels_to_dataset\u001b[0;34m(image_paths, image_size, num_channels, labels, label_mode, num_classes, interpolation)\u001b[0m\n\u001b[1;32m    220\u001b[0m   \u001b[0mpath_ds\u001b[0m \u001b[0;34m=\u001b[0m \u001b[0mdataset_ops\u001b[0m\u001b[0;34m.\u001b[0m\u001b[0mDataset\u001b[0m\u001b[0;34m.\u001b[0m\u001b[0mfrom_tensor_slices\u001b[0m\u001b[0;34m(\u001b[0m\u001b[0mimage_paths\u001b[0m\u001b[0;34m)\u001b[0m\u001b[0;34m\u001b[0m\u001b[0;34m\u001b[0m\u001b[0m\n\u001b[1;32m    221\u001b[0m   img_ds = path_ds.map(\n\u001b[0;32m--> 222\u001b[0;31m       lambda x: path_to_image(x, image_size, num_channels, interpolation))\n\u001b[0m\u001b[1;32m    223\u001b[0m   \u001b[0;32mif\u001b[0m \u001b[0mlabel_mode\u001b[0m\u001b[0;34m:\u001b[0m\u001b[0;34m\u001b[0m\u001b[0;34m\u001b[0m\u001b[0m\n\u001b[1;32m    224\u001b[0m     \u001b[0mlabel_ds\u001b[0m \u001b[0;34m=\u001b[0m \u001b[0mdataset_utils\u001b[0m\u001b[0;34m.\u001b[0m\u001b[0mlabels_to_dataset\u001b[0m\u001b[0;34m(\u001b[0m\u001b[0mlabels\u001b[0m\u001b[0;34m,\u001b[0m \u001b[0mlabel_mode\u001b[0m\u001b[0;34m,\u001b[0m \u001b[0mnum_classes\u001b[0m\u001b[0;34m)\u001b[0m\u001b[0;34m\u001b[0m\u001b[0;34m\u001b[0m\u001b[0m\n",
            "\u001b[0;32m/usr/local/lib/python3.7/dist-packages/tensorflow/python/data/ops/dataset_ops.py\u001b[0m in \u001b[0;36mmap\u001b[0;34m(self, map_func, num_parallel_calls, deterministic)\u001b[0m\n\u001b[1;32m   1803\u001b[0m     \"\"\"\n\u001b[1;32m   1804\u001b[0m     \u001b[0;32mif\u001b[0m \u001b[0mnum_parallel_calls\u001b[0m \u001b[0;32mis\u001b[0m \u001b[0;32mNone\u001b[0m\u001b[0;34m:\u001b[0m\u001b[0;34m\u001b[0m\u001b[0;34m\u001b[0m\u001b[0m\n\u001b[0;32m-> 1805\u001b[0;31m       \u001b[0;32mreturn\u001b[0m \u001b[0mMapDataset\u001b[0m\u001b[0;34m(\u001b[0m\u001b[0mself\u001b[0m\u001b[0;34m,\u001b[0m \u001b[0mmap_func\u001b[0m\u001b[0;34m,\u001b[0m \u001b[0mpreserve_cardinality\u001b[0m\u001b[0;34m=\u001b[0m\u001b[0;32mTrue\u001b[0m\u001b[0;34m)\u001b[0m\u001b[0;34m\u001b[0m\u001b[0;34m\u001b[0m\u001b[0m\n\u001b[0m\u001b[1;32m   1806\u001b[0m     \u001b[0;32melse\u001b[0m\u001b[0;34m:\u001b[0m\u001b[0;34m\u001b[0m\u001b[0;34m\u001b[0m\u001b[0m\n\u001b[1;32m   1807\u001b[0m       return ParallelMapDataset(\n",
            "\u001b[0;32m/usr/local/lib/python3.7/dist-packages/tensorflow/python/data/ops/dataset_ops.py\u001b[0m in \u001b[0;36m__init__\u001b[0;34m(self, input_dataset, map_func, use_inter_op_parallelism, preserve_cardinality, use_legacy_function)\u001b[0m\n\u001b[1;32m   4205\u001b[0m         \u001b[0mself\u001b[0m\u001b[0;34m.\u001b[0m\u001b[0m_transformation_name\u001b[0m\u001b[0;34m(\u001b[0m\u001b[0;34m)\u001b[0m\u001b[0;34m,\u001b[0m\u001b[0;34m\u001b[0m\u001b[0;34m\u001b[0m\u001b[0m\n\u001b[1;32m   4206\u001b[0m         \u001b[0mdataset\u001b[0m\u001b[0;34m=\u001b[0m\u001b[0minput_dataset\u001b[0m\u001b[0;34m,\u001b[0m\u001b[0;34m\u001b[0m\u001b[0;34m\u001b[0m\u001b[0m\n\u001b[0;32m-> 4207\u001b[0;31m         use_legacy_function=use_legacy_function)\n\u001b[0m\u001b[1;32m   4208\u001b[0m     variant_tensor = gen_dataset_ops.map_dataset(\n\u001b[1;32m   4209\u001b[0m         \u001b[0minput_dataset\u001b[0m\u001b[0;34m.\u001b[0m\u001b[0m_variant_tensor\u001b[0m\u001b[0;34m,\u001b[0m  \u001b[0;31m# pylint: disable=protected-access\u001b[0m\u001b[0;34m\u001b[0m\u001b[0;34m\u001b[0m\u001b[0m\n",
            "\u001b[0;32m/usr/local/lib/python3.7/dist-packages/tensorflow/python/data/ops/dataset_ops.py\u001b[0m in \u001b[0;36m__init__\u001b[0;34m(self, func, transformation_name, dataset, input_classes, input_shapes, input_types, input_structure, add_to_graph, use_legacy_function, defun_kwargs)\u001b[0m\n\u001b[1;32m   3523\u001b[0m       \u001b[0;32mwith\u001b[0m \u001b[0mtracking\u001b[0m\u001b[0;34m.\u001b[0m\u001b[0mresource_tracker_scope\u001b[0m\u001b[0;34m(\u001b[0m\u001b[0mresource_tracker\u001b[0m\u001b[0;34m)\u001b[0m\u001b[0;34m:\u001b[0m\u001b[0;34m\u001b[0m\u001b[0;34m\u001b[0m\u001b[0m\n\u001b[1;32m   3524\u001b[0m         \u001b[0;31m# TODO(b/141462134): Switch to using garbage collection.\u001b[0m\u001b[0;34m\u001b[0m\u001b[0;34m\u001b[0m\u001b[0;34m\u001b[0m\u001b[0m\n\u001b[0;32m-> 3525\u001b[0;31m         \u001b[0mself\u001b[0m\u001b[0;34m.\u001b[0m\u001b[0m_function\u001b[0m \u001b[0;34m=\u001b[0m \u001b[0mwrapper_fn\u001b[0m\u001b[0;34m.\u001b[0m\u001b[0mget_concrete_function\u001b[0m\u001b[0;34m(\u001b[0m\u001b[0;34m)\u001b[0m\u001b[0;34m\u001b[0m\u001b[0;34m\u001b[0m\u001b[0m\n\u001b[0m\u001b[1;32m   3526\u001b[0m         \u001b[0;32mif\u001b[0m \u001b[0madd_to_graph\u001b[0m\u001b[0;34m:\u001b[0m\u001b[0;34m\u001b[0m\u001b[0;34m\u001b[0m\u001b[0m\n\u001b[1;32m   3527\u001b[0m           \u001b[0mself\u001b[0m\u001b[0;34m.\u001b[0m\u001b[0m_function\u001b[0m\u001b[0;34m.\u001b[0m\u001b[0madd_to_graph\u001b[0m\u001b[0;34m(\u001b[0m\u001b[0mops\u001b[0m\u001b[0;34m.\u001b[0m\u001b[0mget_default_graph\u001b[0m\u001b[0;34m(\u001b[0m\u001b[0;34m)\u001b[0m\u001b[0;34m)\u001b[0m\u001b[0;34m\u001b[0m\u001b[0;34m\u001b[0m\u001b[0m\n",
            "\u001b[0;32m/usr/local/lib/python3.7/dist-packages/tensorflow/python/eager/function.py\u001b[0m in \u001b[0;36mget_concrete_function\u001b[0;34m(self, *args, **kwargs)\u001b[0m\n\u001b[1;32m   3050\u001b[0m     \"\"\"\n\u001b[1;32m   3051\u001b[0m     graph_function = self._get_concrete_function_garbage_collected(\n\u001b[0;32m-> 3052\u001b[0;31m         *args, **kwargs)\n\u001b[0m\u001b[1;32m   3053\u001b[0m     \u001b[0mgraph_function\u001b[0m\u001b[0;34m.\u001b[0m\u001b[0m_garbage_collector\u001b[0m\u001b[0;34m.\u001b[0m\u001b[0mrelease\u001b[0m\u001b[0;34m(\u001b[0m\u001b[0;34m)\u001b[0m  \u001b[0;31m# pylint: disable=protected-access\u001b[0m\u001b[0;34m\u001b[0m\u001b[0;34m\u001b[0m\u001b[0m\n\u001b[1;32m   3054\u001b[0m     \u001b[0;32mreturn\u001b[0m \u001b[0mgraph_function\u001b[0m\u001b[0;34m\u001b[0m\u001b[0;34m\u001b[0m\u001b[0m\n",
            "\u001b[0;32m/usr/local/lib/python3.7/dist-packages/tensorflow/python/eager/function.py\u001b[0m in \u001b[0;36m_get_concrete_function_garbage_collected\u001b[0;34m(self, *args, **kwargs)\u001b[0m\n\u001b[1;32m   3017\u001b[0m       \u001b[0margs\u001b[0m\u001b[0;34m,\u001b[0m \u001b[0mkwargs\u001b[0m \u001b[0;34m=\u001b[0m \u001b[0;32mNone\u001b[0m\u001b[0;34m,\u001b[0m \u001b[0;32mNone\u001b[0m\u001b[0;34m\u001b[0m\u001b[0;34m\u001b[0m\u001b[0m\n\u001b[1;32m   3018\u001b[0m     \u001b[0;32mwith\u001b[0m \u001b[0mself\u001b[0m\u001b[0;34m.\u001b[0m\u001b[0m_lock\u001b[0m\u001b[0;34m:\u001b[0m\u001b[0;34m\u001b[0m\u001b[0;34m\u001b[0m\u001b[0m\n\u001b[0;32m-> 3019\u001b[0;31m       \u001b[0mgraph_function\u001b[0m\u001b[0;34m,\u001b[0m \u001b[0m_\u001b[0m \u001b[0;34m=\u001b[0m \u001b[0mself\u001b[0m\u001b[0;34m.\u001b[0m\u001b[0m_maybe_define_function\u001b[0m\u001b[0;34m(\u001b[0m\u001b[0margs\u001b[0m\u001b[0;34m,\u001b[0m \u001b[0mkwargs\u001b[0m\u001b[0;34m)\u001b[0m\u001b[0;34m\u001b[0m\u001b[0;34m\u001b[0m\u001b[0m\n\u001b[0m\u001b[1;32m   3020\u001b[0m       \u001b[0mseen_names\u001b[0m \u001b[0;34m=\u001b[0m \u001b[0mset\u001b[0m\u001b[0;34m(\u001b[0m\u001b[0;34m)\u001b[0m\u001b[0;34m\u001b[0m\u001b[0;34m\u001b[0m\u001b[0m\n\u001b[1;32m   3021\u001b[0m       captured = object_identity.ObjectIdentitySet(\n",
            "\u001b[0;32m/usr/local/lib/python3.7/dist-packages/tensorflow/python/eager/function.py\u001b[0m in \u001b[0;36m_maybe_define_function\u001b[0;34m(self, args, kwargs)\u001b[0m\n\u001b[1;32m   3359\u001b[0m \u001b[0;34m\u001b[0m\u001b[0m\n\u001b[1;32m   3360\u001b[0m           \u001b[0mself\u001b[0m\u001b[0;34m.\u001b[0m\u001b[0m_function_cache\u001b[0m\u001b[0;34m.\u001b[0m\u001b[0mmissed\u001b[0m\u001b[0;34m.\u001b[0m\u001b[0madd\u001b[0m\u001b[0;34m(\u001b[0m\u001b[0mcall_context_key\u001b[0m\u001b[0;34m)\u001b[0m\u001b[0;34m\u001b[0m\u001b[0;34m\u001b[0m\u001b[0m\n\u001b[0;32m-> 3361\u001b[0;31m           \u001b[0mgraph_function\u001b[0m \u001b[0;34m=\u001b[0m \u001b[0mself\u001b[0m\u001b[0;34m.\u001b[0m\u001b[0m_create_graph_function\u001b[0m\u001b[0;34m(\u001b[0m\u001b[0margs\u001b[0m\u001b[0;34m,\u001b[0m \u001b[0mkwargs\u001b[0m\u001b[0;34m)\u001b[0m\u001b[0;34m\u001b[0m\u001b[0;34m\u001b[0m\u001b[0m\n\u001b[0m\u001b[1;32m   3362\u001b[0m           \u001b[0mself\u001b[0m\u001b[0;34m.\u001b[0m\u001b[0m_function_cache\u001b[0m\u001b[0;34m.\u001b[0m\u001b[0mprimary\u001b[0m\u001b[0;34m[\u001b[0m\u001b[0mcache_key\u001b[0m\u001b[0;34m]\u001b[0m \u001b[0;34m=\u001b[0m \u001b[0mgraph_function\u001b[0m\u001b[0;34m\u001b[0m\u001b[0;34m\u001b[0m\u001b[0m\n\u001b[1;32m   3363\u001b[0m \u001b[0;34m\u001b[0m\u001b[0m\n",
            "\u001b[0;32m/usr/local/lib/python3.7/dist-packages/tensorflow/python/eager/function.py\u001b[0m in \u001b[0;36m_create_graph_function\u001b[0;34m(self, args, kwargs, override_flat_arg_shapes)\u001b[0m\n\u001b[1;32m   3204\u001b[0m             \u001b[0marg_names\u001b[0m\u001b[0;34m=\u001b[0m\u001b[0marg_names\u001b[0m\u001b[0;34m,\u001b[0m\u001b[0;34m\u001b[0m\u001b[0;34m\u001b[0m\u001b[0m\n\u001b[1;32m   3205\u001b[0m             \u001b[0moverride_flat_arg_shapes\u001b[0m\u001b[0;34m=\u001b[0m\u001b[0moverride_flat_arg_shapes\u001b[0m\u001b[0;34m,\u001b[0m\u001b[0;34m\u001b[0m\u001b[0;34m\u001b[0m\u001b[0m\n\u001b[0;32m-> 3206\u001b[0;31m             capture_by_value=self._capture_by_value),\n\u001b[0m\u001b[1;32m   3207\u001b[0m         \u001b[0mself\u001b[0m\u001b[0;34m.\u001b[0m\u001b[0m_function_attributes\u001b[0m\u001b[0;34m,\u001b[0m\u001b[0;34m\u001b[0m\u001b[0;34m\u001b[0m\u001b[0m\n\u001b[1;32m   3208\u001b[0m         \u001b[0mfunction_spec\u001b[0m\u001b[0;34m=\u001b[0m\u001b[0mself\u001b[0m\u001b[0;34m.\u001b[0m\u001b[0mfunction_spec\u001b[0m\u001b[0;34m,\u001b[0m\u001b[0;34m\u001b[0m\u001b[0;34m\u001b[0m\u001b[0m\n",
            "\u001b[0;32m/usr/local/lib/python3.7/dist-packages/tensorflow/python/framework/func_graph.py\u001b[0m in \u001b[0;36mfunc_graph_from_py_func\u001b[0;34m(name, python_func, args, kwargs, signature, func_graph, autograph, autograph_options, add_control_dependencies, arg_names, op_return_value, collections, capture_by_value, override_flat_arg_shapes)\u001b[0m\n\u001b[1;32m    988\u001b[0m         \u001b[0m_\u001b[0m\u001b[0;34m,\u001b[0m \u001b[0moriginal_func\u001b[0m \u001b[0;34m=\u001b[0m \u001b[0mtf_decorator\u001b[0m\u001b[0;34m.\u001b[0m\u001b[0munwrap\u001b[0m\u001b[0;34m(\u001b[0m\u001b[0mpython_func\u001b[0m\u001b[0;34m)\u001b[0m\u001b[0;34m\u001b[0m\u001b[0;34m\u001b[0m\u001b[0m\n\u001b[1;32m    989\u001b[0m \u001b[0;34m\u001b[0m\u001b[0m\n\u001b[0;32m--> 990\u001b[0;31m       \u001b[0mfunc_outputs\u001b[0m \u001b[0;34m=\u001b[0m \u001b[0mpython_func\u001b[0m\u001b[0;34m(\u001b[0m\u001b[0;34m*\u001b[0m\u001b[0mfunc_args\u001b[0m\u001b[0;34m,\u001b[0m \u001b[0;34m**\u001b[0m\u001b[0mfunc_kwargs\u001b[0m\u001b[0;34m)\u001b[0m\u001b[0;34m\u001b[0m\u001b[0;34m\u001b[0m\u001b[0m\n\u001b[0m\u001b[1;32m    991\u001b[0m \u001b[0;34m\u001b[0m\u001b[0m\n\u001b[1;32m    992\u001b[0m       \u001b[0;31m# invariant: `func_outputs` contains only Tensors, CompositeTensors,\u001b[0m\u001b[0;34m\u001b[0m\u001b[0;34m\u001b[0m\u001b[0;34m\u001b[0m\u001b[0m\n",
            "\u001b[0;32m/usr/local/lib/python3.7/dist-packages/tensorflow/python/data/ops/dataset_ops.py\u001b[0m in \u001b[0;36mwrapper_fn\u001b[0;34m(*args)\u001b[0m\n\u001b[1;32m   3516\u001b[0m           attributes=defun_kwargs)\n\u001b[1;32m   3517\u001b[0m       \u001b[0;32mdef\u001b[0m \u001b[0mwrapper_fn\u001b[0m\u001b[0;34m(\u001b[0m\u001b[0;34m*\u001b[0m\u001b[0margs\u001b[0m\u001b[0;34m)\u001b[0m\u001b[0;34m:\u001b[0m  \u001b[0;31m# pylint: disable=missing-docstring\u001b[0m\u001b[0;34m\u001b[0m\u001b[0;34m\u001b[0m\u001b[0m\n\u001b[0;32m-> 3518\u001b[0;31m         \u001b[0mret\u001b[0m \u001b[0;34m=\u001b[0m \u001b[0m_wrapper_helper\u001b[0m\u001b[0;34m(\u001b[0m\u001b[0;34m*\u001b[0m\u001b[0margs\u001b[0m\u001b[0;34m)\u001b[0m\u001b[0;34m\u001b[0m\u001b[0;34m\u001b[0m\u001b[0m\n\u001b[0m\u001b[1;32m   3519\u001b[0m         \u001b[0mret\u001b[0m \u001b[0;34m=\u001b[0m \u001b[0mstructure\u001b[0m\u001b[0;34m.\u001b[0m\u001b[0mto_tensor_list\u001b[0m\u001b[0;34m(\u001b[0m\u001b[0mself\u001b[0m\u001b[0;34m.\u001b[0m\u001b[0m_output_structure\u001b[0m\u001b[0;34m,\u001b[0m \u001b[0mret\u001b[0m\u001b[0;34m)\u001b[0m\u001b[0;34m\u001b[0m\u001b[0;34m\u001b[0m\u001b[0m\n\u001b[1;32m   3520\u001b[0m         \u001b[0;32mreturn\u001b[0m \u001b[0;34m[\u001b[0m\u001b[0mops\u001b[0m\u001b[0;34m.\u001b[0m\u001b[0mconvert_to_tensor\u001b[0m\u001b[0;34m(\u001b[0m\u001b[0mt\u001b[0m\u001b[0;34m)\u001b[0m \u001b[0;32mfor\u001b[0m \u001b[0mt\u001b[0m \u001b[0;32min\u001b[0m \u001b[0mret\u001b[0m\u001b[0;34m]\u001b[0m\u001b[0;34m\u001b[0m\u001b[0;34m\u001b[0m\u001b[0m\n",
            "\u001b[0;32m/usr/local/lib/python3.7/dist-packages/tensorflow/python/data/ops/dataset_ops.py\u001b[0m in \u001b[0;36m_wrapper_helper\u001b[0;34m(*args)\u001b[0m\n\u001b[1;32m   3451\u001b[0m         \u001b[0mnested_args\u001b[0m \u001b[0;34m=\u001b[0m \u001b[0;34m(\u001b[0m\u001b[0mnested_args\u001b[0m\u001b[0;34m,\u001b[0m\u001b[0;34m)\u001b[0m\u001b[0;34m\u001b[0m\u001b[0;34m\u001b[0m\u001b[0m\n\u001b[1;32m   3452\u001b[0m \u001b[0;34m\u001b[0m\u001b[0m\n\u001b[0;32m-> 3453\u001b[0;31m       \u001b[0mret\u001b[0m \u001b[0;34m=\u001b[0m \u001b[0mautograph\u001b[0m\u001b[0;34m.\u001b[0m\u001b[0mtf_convert\u001b[0m\u001b[0;34m(\u001b[0m\u001b[0mfunc\u001b[0m\u001b[0;34m,\u001b[0m \u001b[0mag_ctx\u001b[0m\u001b[0;34m)\u001b[0m\u001b[0;34m(\u001b[0m\u001b[0;34m*\u001b[0m\u001b[0mnested_args\u001b[0m\u001b[0;34m)\u001b[0m\u001b[0;34m\u001b[0m\u001b[0;34m\u001b[0m\u001b[0m\n\u001b[0m\u001b[1;32m   3454\u001b[0m       \u001b[0;31m# If `func` returns a list of tensors, `nest.flatten()` and\u001b[0m\u001b[0;34m\u001b[0m\u001b[0;34m\u001b[0m\u001b[0;34m\u001b[0m\u001b[0m\n\u001b[1;32m   3455\u001b[0m       \u001b[0;31m# `ops.convert_to_tensor()` would conspire to attempt to stack\u001b[0m\u001b[0;34m\u001b[0m\u001b[0;34m\u001b[0m\u001b[0;34m\u001b[0m\u001b[0m\n",
            "\u001b[0;32m/usr/local/lib/python3.7/dist-packages/tensorflow/python/autograph/impl/api.py\u001b[0m in \u001b[0;36mwrapper\u001b[0;34m(*args, **kwargs)\u001b[0m\n\u001b[1;32m    665\u001b[0m       \u001b[0;32mtry\u001b[0m\u001b[0;34m:\u001b[0m\u001b[0;34m\u001b[0m\u001b[0;34m\u001b[0m\u001b[0m\n\u001b[1;32m    666\u001b[0m         \u001b[0;32mwith\u001b[0m \u001b[0mconversion_ctx\u001b[0m\u001b[0;34m:\u001b[0m\u001b[0;34m\u001b[0m\u001b[0;34m\u001b[0m\u001b[0m\n\u001b[0;32m--> 667\u001b[0;31m           \u001b[0;32mreturn\u001b[0m \u001b[0mconverted_call\u001b[0m\u001b[0;34m(\u001b[0m\u001b[0mf\u001b[0m\u001b[0;34m,\u001b[0m \u001b[0margs\u001b[0m\u001b[0;34m,\u001b[0m \u001b[0mkwargs\u001b[0m\u001b[0;34m,\u001b[0m \u001b[0moptions\u001b[0m\u001b[0;34m=\u001b[0m\u001b[0moptions\u001b[0m\u001b[0;34m)\u001b[0m\u001b[0;34m\u001b[0m\u001b[0;34m\u001b[0m\u001b[0m\n\u001b[0m\u001b[1;32m    668\u001b[0m       \u001b[0;32mexcept\u001b[0m \u001b[0mException\u001b[0m \u001b[0;32mas\u001b[0m \u001b[0me\u001b[0m\u001b[0;34m:\u001b[0m  \u001b[0;31m# pylint:disable=broad-except\u001b[0m\u001b[0;34m\u001b[0m\u001b[0;34m\u001b[0m\u001b[0m\n\u001b[1;32m    669\u001b[0m         \u001b[0;32mif\u001b[0m \u001b[0mhasattr\u001b[0m\u001b[0;34m(\u001b[0m\u001b[0me\u001b[0m\u001b[0;34m,\u001b[0m \u001b[0;34m'ag_error_metadata'\u001b[0m\u001b[0;34m)\u001b[0m\u001b[0;34m:\u001b[0m\u001b[0;34m\u001b[0m\u001b[0;34m\u001b[0m\u001b[0m\n",
            "\u001b[0;32m/usr/local/lib/python3.7/dist-packages/tensorflow/python/autograph/impl/api.py\u001b[0m in \u001b[0;36mconverted_call\u001b[0;34m(f, args, kwargs, caller_fn_scope, options)\u001b[0m\n\u001b[1;32m    394\u001b[0m \u001b[0;34m\u001b[0m\u001b[0m\n\u001b[1;32m    395\u001b[0m   \u001b[0;32mif\u001b[0m \u001b[0;32mnot\u001b[0m \u001b[0moptions\u001b[0m\u001b[0;34m.\u001b[0m\u001b[0muser_requested\u001b[0m \u001b[0;32mand\u001b[0m \u001b[0mconversion\u001b[0m\u001b[0;34m.\u001b[0m\u001b[0mis_allowlisted\u001b[0m\u001b[0;34m(\u001b[0m\u001b[0mf\u001b[0m\u001b[0;34m)\u001b[0m\u001b[0;34m:\u001b[0m\u001b[0;34m\u001b[0m\u001b[0;34m\u001b[0m\u001b[0m\n\u001b[0;32m--> 396\u001b[0;31m     \u001b[0;32mreturn\u001b[0m \u001b[0m_call_unconverted\u001b[0m\u001b[0;34m(\u001b[0m\u001b[0mf\u001b[0m\u001b[0;34m,\u001b[0m \u001b[0margs\u001b[0m\u001b[0;34m,\u001b[0m \u001b[0mkwargs\u001b[0m\u001b[0;34m,\u001b[0m \u001b[0moptions\u001b[0m\u001b[0;34m)\u001b[0m\u001b[0;34m\u001b[0m\u001b[0;34m\u001b[0m\u001b[0m\n\u001b[0m\u001b[1;32m    397\u001b[0m \u001b[0;34m\u001b[0m\u001b[0m\n\u001b[1;32m    398\u001b[0m   \u001b[0;31m# internal_convert_user_code is for example turned off when issuing a dynamic\u001b[0m\u001b[0;34m\u001b[0m\u001b[0;34m\u001b[0m\u001b[0;34m\u001b[0m\u001b[0m\n",
            "\u001b[0;32m/usr/local/lib/python3.7/dist-packages/tensorflow/python/autograph/impl/api.py\u001b[0m in \u001b[0;36m_call_unconverted\u001b[0;34m(f, args, kwargs, options, update_cache)\u001b[0m\n\u001b[1;32m    476\u001b[0m \u001b[0;34m\u001b[0m\u001b[0m\n\u001b[1;32m    477\u001b[0m   \u001b[0;32mif\u001b[0m \u001b[0mkwargs\u001b[0m \u001b[0;32mis\u001b[0m \u001b[0;32mnot\u001b[0m \u001b[0;32mNone\u001b[0m\u001b[0;34m:\u001b[0m\u001b[0;34m\u001b[0m\u001b[0;34m\u001b[0m\u001b[0m\n\u001b[0;32m--> 478\u001b[0;31m     \u001b[0;32mreturn\u001b[0m \u001b[0mf\u001b[0m\u001b[0;34m(\u001b[0m\u001b[0;34m*\u001b[0m\u001b[0margs\u001b[0m\u001b[0;34m,\u001b[0m \u001b[0;34m**\u001b[0m\u001b[0mkwargs\u001b[0m\u001b[0;34m)\u001b[0m\u001b[0;34m\u001b[0m\u001b[0;34m\u001b[0m\u001b[0m\n\u001b[0m\u001b[1;32m    479\u001b[0m   \u001b[0;32mreturn\u001b[0m \u001b[0mf\u001b[0m\u001b[0;34m(\u001b[0m\u001b[0;34m*\u001b[0m\u001b[0margs\u001b[0m\u001b[0;34m)\u001b[0m\u001b[0;34m\u001b[0m\u001b[0;34m\u001b[0m\u001b[0m\n\u001b[1;32m    480\u001b[0m \u001b[0;34m\u001b[0m\u001b[0m\n",
            "\u001b[0;32m/usr/local/lib/python3.7/dist-packages/tensorflow/python/keras/preprocessing/image_dataset.py\u001b[0m in \u001b[0;36m<lambda>\u001b[0;34m(x)\u001b[0m\n\u001b[1;32m    220\u001b[0m   \u001b[0mpath_ds\u001b[0m \u001b[0;34m=\u001b[0m \u001b[0mdataset_ops\u001b[0m\u001b[0;34m.\u001b[0m\u001b[0mDataset\u001b[0m\u001b[0;34m.\u001b[0m\u001b[0mfrom_tensor_slices\u001b[0m\u001b[0;34m(\u001b[0m\u001b[0mimage_paths\u001b[0m\u001b[0;34m)\u001b[0m\u001b[0;34m\u001b[0m\u001b[0;34m\u001b[0m\u001b[0m\n\u001b[1;32m    221\u001b[0m   img_ds = path_ds.map(\n\u001b[0;32m--> 222\u001b[0;31m       lambda x: path_to_image(x, image_size, num_channels, interpolation))\n\u001b[0m\u001b[1;32m    223\u001b[0m   \u001b[0;32mif\u001b[0m \u001b[0mlabel_mode\u001b[0m\u001b[0;34m:\u001b[0m\u001b[0;34m\u001b[0m\u001b[0;34m\u001b[0m\u001b[0m\n\u001b[1;32m    224\u001b[0m     \u001b[0mlabel_ds\u001b[0m \u001b[0;34m=\u001b[0m \u001b[0mdataset_utils\u001b[0m\u001b[0;34m.\u001b[0m\u001b[0mlabels_to_dataset\u001b[0m\u001b[0;34m(\u001b[0m\u001b[0mlabels\u001b[0m\u001b[0;34m,\u001b[0m \u001b[0mlabel_mode\u001b[0m\u001b[0;34m,\u001b[0m \u001b[0mnum_classes\u001b[0m\u001b[0;34m)\u001b[0m\u001b[0;34m\u001b[0m\u001b[0;34m\u001b[0m\u001b[0m\n",
            "\u001b[0;32m/usr/local/lib/python3.7/dist-packages/tensorflow/python/keras/preprocessing/image_dataset.py\u001b[0m in \u001b[0;36mpath_to_image\u001b[0;34m(path, image_size, num_channels, interpolation)\u001b[0m\n\u001b[1;32m    228\u001b[0m \u001b[0;34m\u001b[0m\u001b[0m\n\u001b[1;32m    229\u001b[0m \u001b[0;32mdef\u001b[0m \u001b[0mpath_to_image\u001b[0m\u001b[0;34m(\u001b[0m\u001b[0mpath\u001b[0m\u001b[0;34m,\u001b[0m \u001b[0mimage_size\u001b[0m\u001b[0;34m,\u001b[0m \u001b[0mnum_channels\u001b[0m\u001b[0;34m,\u001b[0m \u001b[0minterpolation\u001b[0m\u001b[0;34m)\u001b[0m\u001b[0;34m:\u001b[0m\u001b[0;34m\u001b[0m\u001b[0;34m\u001b[0m\u001b[0m\n\u001b[0;32m--> 230\u001b[0;31m   \u001b[0mimg\u001b[0m \u001b[0;34m=\u001b[0m \u001b[0mio_ops\u001b[0m\u001b[0;34m.\u001b[0m\u001b[0mread_file\u001b[0m\u001b[0;34m(\u001b[0m\u001b[0mpath\u001b[0m\u001b[0;34m)\u001b[0m\u001b[0;34m\u001b[0m\u001b[0;34m\u001b[0m\u001b[0m\n\u001b[0m\u001b[1;32m    231\u001b[0m   img = image_ops.decode_image(\n\u001b[1;32m    232\u001b[0m       img, channels=num_channels, expand_animations=False)\n",
            "\u001b[0;32m/usr/local/lib/python3.7/dist-packages/tensorflow/python/ops/gen_io_ops.py\u001b[0m in \u001b[0;36mread_file\u001b[0;34m(filename, name)\u001b[0m\n\u001b[1;32m    570\u001b[0m   \u001b[0;32mtry\u001b[0m\u001b[0;34m:\u001b[0m\u001b[0;34m\u001b[0m\u001b[0;34m\u001b[0m\u001b[0m\n\u001b[1;32m    571\u001b[0m     _, _, _op, _outputs = _op_def_library._apply_op_helper(\n\u001b[0;32m--> 572\u001b[0;31m         \"ReadFile\", filename=filename, name=name)\n\u001b[0m\u001b[1;32m    573\u001b[0m   \u001b[0;32mexcept\u001b[0m \u001b[0;34m(\u001b[0m\u001b[0mTypeError\u001b[0m\u001b[0;34m,\u001b[0m \u001b[0mValueError\u001b[0m\u001b[0;34m)\u001b[0m\u001b[0;34m:\u001b[0m\u001b[0;34m\u001b[0m\u001b[0;34m\u001b[0m\u001b[0m\n\u001b[1;32m    574\u001b[0m     result = _dispatch.dispatch(\n",
            "\u001b[0;32m/usr/local/lib/python3.7/dist-packages/tensorflow/python/framework/op_def_library.py\u001b[0m in \u001b[0;36m_apply_op_helper\u001b[0;34m(op_type_name, name, **keywords)\u001b[0m\n\u001b[1;32m    543\u001b[0m           \u001b[0;32mif\u001b[0m \u001b[0minput_arg\u001b[0m\u001b[0;34m.\u001b[0m\u001b[0mtype\u001b[0m \u001b[0;34m!=\u001b[0m \u001b[0mtypes_pb2\u001b[0m\u001b[0;34m.\u001b[0m\u001b[0mDT_INVALID\u001b[0m\u001b[0;34m:\u001b[0m\u001b[0;34m\u001b[0m\u001b[0;34m\u001b[0m\u001b[0m\n\u001b[1;32m    544\u001b[0m             raise TypeError(\"%s expected type of %s.\" %\n\u001b[0;32m--> 545\u001b[0;31m                             (prefix, dtypes.as_dtype(input_arg.type).name))\n\u001b[0m\u001b[1;32m    546\u001b[0m           \u001b[0;32melse\u001b[0m\u001b[0;34m:\u001b[0m\u001b[0;34m\u001b[0m\u001b[0;34m\u001b[0m\u001b[0m\n\u001b[1;32m    547\u001b[0m             \u001b[0;31m# Update the maps with the default, if needed.\u001b[0m\u001b[0;34m\u001b[0m\u001b[0;34m\u001b[0m\u001b[0;34m\u001b[0m\u001b[0m\n",
            "\u001b[0;31mTypeError\u001b[0m: Input 'filename' of 'ReadFile' Op has type float32 that does not match expected type of string."
          ]
        }
      ]
    },
    {
      "cell_type": "code",
      "metadata": {
        "colab": {
          "base_uri": "https://localhost:8080/",
          "height": 375
        },
        "id": "78ye8qVWbKjw",
        "outputId": "710278af-e35c-443b-c574-24899c4c7f01"
      },
      "source": [
        "train = tf.keras.preprocessing.image_dataset_from_directory(\n",
        "    img_dir_train,\n",
        "    labels=classes,\n",
        "    label_mode='categorical',\n",
        "    color_mode='rgb', \n",
        "    batch_size=32, \n",
        "    image_size=(256,256), \n",
        "    shuffle=True, \n",
        "    interpolation='bilinear' \n",
        ")"
      ],
      "execution_count": null,
      "outputs": [
        {
          "output_type": "error",
          "ename": "ValueError",
          "evalue": "ignored",
          "traceback": [
            "\u001b[0;31m---------------------------------------------------------------------------\u001b[0m",
            "\u001b[0;31mValueError\u001b[0m                                Traceback (most recent call last)",
            "\u001b[0;32m<ipython-input-61-2d859293aacf>\u001b[0m in \u001b[0;36m<module>\u001b[0;34m()\u001b[0m\n\u001b[1;32m      7\u001b[0m     \u001b[0mimage_size\u001b[0m\u001b[0;34m=\u001b[0m\u001b[0;34m(\u001b[0m\u001b[0;36m256\u001b[0m\u001b[0;34m,\u001b[0m\u001b[0;36m256\u001b[0m\u001b[0;34m)\u001b[0m\u001b[0;34m,\u001b[0m\u001b[0;34m\u001b[0m\u001b[0;34m\u001b[0m\u001b[0m\n\u001b[1;32m      8\u001b[0m     \u001b[0mshuffle\u001b[0m\u001b[0;34m=\u001b[0m\u001b[0;32mTrue\u001b[0m\u001b[0;34m,\u001b[0m\u001b[0;34m\u001b[0m\u001b[0;34m\u001b[0m\u001b[0m\n\u001b[0;32m----> 9\u001b[0;31m     \u001b[0minterpolation\u001b[0m\u001b[0;34m=\u001b[0m\u001b[0;34m'bilinear'\u001b[0m\u001b[0;34m\u001b[0m\u001b[0;34m\u001b[0m\u001b[0m\n\u001b[0m\u001b[1;32m     10\u001b[0m )\n",
            "\u001b[0;32m/usr/local/lib/python3.7/dist-packages/tensorflow/python/keras/preprocessing/image_dataset.py\u001b[0m in \u001b[0;36mimage_dataset_from_directory\u001b[0;34m(directory, labels, label_mode, class_names, color_mode, batch_size, image_size, shuffle, seed, validation_split, subset, interpolation, follow_links)\u001b[0m\n\u001b[1;32m    180\u001b[0m       \u001b[0mshuffle\u001b[0m\u001b[0;34m=\u001b[0m\u001b[0mshuffle\u001b[0m\u001b[0;34m,\u001b[0m\u001b[0;34m\u001b[0m\u001b[0;34m\u001b[0m\u001b[0m\n\u001b[1;32m    181\u001b[0m       \u001b[0mseed\u001b[0m\u001b[0;34m=\u001b[0m\u001b[0mseed\u001b[0m\u001b[0;34m,\u001b[0m\u001b[0;34m\u001b[0m\u001b[0;34m\u001b[0m\u001b[0m\n\u001b[0;32m--> 182\u001b[0;31m       follow_links=follow_links)\n\u001b[0m\u001b[1;32m    183\u001b[0m \u001b[0;34m\u001b[0m\u001b[0m\n\u001b[1;32m    184\u001b[0m   \u001b[0;32mif\u001b[0m \u001b[0mlabel_mode\u001b[0m \u001b[0;34m==\u001b[0m \u001b[0;34m'binary'\u001b[0m \u001b[0;32mand\u001b[0m \u001b[0mlen\u001b[0m\u001b[0;34m(\u001b[0m\u001b[0mclass_names\u001b[0m\u001b[0;34m)\u001b[0m \u001b[0;34m!=\u001b[0m \u001b[0;36m2\u001b[0m\u001b[0;34m:\u001b[0m\u001b[0;34m\u001b[0m\u001b[0;34m\u001b[0m\u001b[0m\n",
            "\u001b[0;32m/usr/local/lib/python3.7/dist-packages/tensorflow/python/keras/preprocessing/dataset_utils.py\u001b[0m in \u001b[0;36mindex_directory\u001b[0;34m(directory, labels, formats, class_names, shuffle, seed, follow_links)\u001b[0m\n\u001b[1;32m     96\u001b[0m                        \u001b[0;34m'of files in the target directory. len(labels) is %s '\u001b[0m\u001b[0;34m\u001b[0m\u001b[0;34m\u001b[0m\u001b[0m\n\u001b[1;32m     97\u001b[0m                        'while we found %s files in %s.' % (\n\u001b[0;32m---> 98\u001b[0;31m                            len(labels), len(filenames), directory))\n\u001b[0m\u001b[1;32m     99\u001b[0m   \u001b[0;32melse\u001b[0m\u001b[0;34m:\u001b[0m\u001b[0;34m\u001b[0m\u001b[0;34m\u001b[0m\u001b[0m\n\u001b[1;32m    100\u001b[0m     \u001b[0mi\u001b[0m \u001b[0;34m=\u001b[0m \u001b[0;36m0\u001b[0m\u001b[0;34m\u001b[0m\u001b[0;34m\u001b[0m\u001b[0m\n",
            "\u001b[0;31mValueError\u001b[0m: Expected the lengths of `labels` to match the number of files in the target directory. len(labels) is 5 while we found 0 files in /content/drive/MyDrive/Colab-Notebooks/yelp-image-classification/rand_pics."
          ]
        }
      ]
    }
  ]
}